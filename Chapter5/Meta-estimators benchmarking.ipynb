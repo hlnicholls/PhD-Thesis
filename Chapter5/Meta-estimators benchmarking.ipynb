{
 "cells": [
  {
   "cell_type": "markdown",
   "metadata": {},
   "source": [
    "# __Meta-estimator Benchmarking__ "
   ]
  },
  {
   "cell_type": "code",
   "execution_count": 3,
   "metadata": {},
   "outputs": [],
   "source": [
    "import re\n",
    "\n",
    "import numpy as np\n",
    "import pandas as pd\n",
    "from numpy import sort\n",
    "from scipy.cluster import hierarchy\n",
    "from scipy.stats import spearmanr\n",
    "\n",
    "regex = re.compile(r\"\\[|\\]|<\", re.IGNORECASE)\n",
    "\n",
    "import seaborn as sns\n",
    "import shap\n",
    "import statsmodels.api as sm\n",
    "\n",
    "%matplotlib inline\n",
    "%config InlineBackend.figure_format ='retina'\n",
    "import statsmodels.stats.api as sms\n",
    "import xgboost\n",
    "from BorutaShap import BorutaShap\n",
    "import sys\n",
    "import sklearn.neighbors._base  \n",
    "sys.modules['sklearn.neighbors.base'] = sklearn.neighbors._base\n",
    "from missingpy import MissForest\n",
    "from sklearn import datasets, metrics, model_selection, preprocessing\n",
    "from sklearn.ensemble import (\n",
    "    BaggingRegressor,\n",
    "    ExtraTreesRegressor,\n",
    "    GradientBoostingRegressor,\n",
    "    RandomForestRegressor,\n",
    "    StackingRegressor,\n",
    "    VotingRegressor,\n",
    ")\n",
    "import lightgbm\n",
    "from catboost import CatBoostRegressor\n",
    "from lightgbm import LGBMRegressor\n",
    "from sklearn.linear_model import ElasticNet, Lasso, LinearRegression\n",
    "from sklearn.metrics import (\n",
    "    explained_variance_score,\n",
    "    max_error,\n",
    "    mean_absolute_error,\n",
    "    mean_squared_error,\n",
    "    r2_score,\n",
    ")\n",
    "from sklearn.model_selection import (\n",
    "    GridSearchCV,\n",
    "    KFold,\n",
    "    RandomizedSearchCV,\n",
    "    RepeatedKFold,\n",
    "    cross_val_predict,\n",
    "    cross_val_score,\n",
    "    cross_validate,\n",
    "    learning_curve,\n",
    "    train_test_split,\n",
    "    validation_curve,\n",
    ")\n",
    "from sklearn.neighbors import KNeighborsRegressor\n",
    "from sklearn.preprocessing import MinMaxScaler\n",
    "from sklearn.svm import SVR\n",
    "from sklearn.tree import DecisionTreeRegressor\n",
    "from skopt import BayesSearchCV\n",
    "from skopt.plots import plot_convergence\n",
    "\n",
    "sns.set_style(\"darkgrid\")\n",
    "sns.mpl.rcParams[\"figure.figsize\"] = (15.0, 9.0)\n",
    "\n",
    "import warnings\n",
    "\n",
    "import matplotlib\n",
    "import matplotlib.pyplot as plt\n",
    "\n",
    "warnings.simplefilter(action=\"ignore\", category=FutureWarning)\n",
    "from warnings import filterwarnings\n",
    "\n",
    "filterwarnings(\"ignore\")\n",
    "\n",
    "seed = 0"
   ]
  },
  {
   "cell_type": "code",
   "execution_count": 4,
   "metadata": {},
   "outputs": [],
   "source": [
    "data = pd.read_csv(\"training_cleaned.csv\", header=0, sep=\",\")"
   ]
  },
  {
   "cell_type": "code",
   "execution_count": 5,
   "metadata": {},
   "outputs": [
    {
     "data": {
      "text/plain": [
       "(804, 29)"
      ]
     },
     "execution_count": 5,
     "metadata": {},
     "output_type": "execute_result"
    }
   ],
   "source": [
    "data[\"label_encoded\"] = data[\"label\"].map(\n",
    "    {\"most likely\": 1, \"probable\": 0.75, \"least likely\": 0.1}\n",
    ")\n",
    "Y = data[\"label_encoded\"]\n",
    "data = data.drop([\"label\"], 1)\n",
    "data.shape  # Data has IPA and ensembl features without possible label"
   ]
  },
  {
   "cell_type": "code",
   "execution_count": 6,
   "metadata": {},
   "outputs": [],
   "source": [
    "X = pd.read_csv(\"selected_features_training_data.csv\", header=0)\n",
    "X.columns = [\n",
    "    regex.sub(\"_\", col) if any(x in str(col) for x in set((\"[\", \"]\", \"<\"))) else col\n",
    "    for col in X.columns.values\n",
    "]"
   ]
  },
  {
   "cell_type": "code",
   "execution_count": 7,
   "metadata": {},
   "outputs": [],
   "source": [
    "X_train, X_test, Y_train, Y_test = train_test_split(\n",
    "    X, Y, test_size=0.2, random_state=seed\n",
    ")"
   ]
  },
  {
   "cell_type": "code",
   "execution_count": 8,
   "metadata": {},
   "outputs": [],
   "source": [
    "def press_statistic(Y, y_pred2, xs):\n",
    "    res = y_pred2 - Y\n",
    "    hat = xs.dot(np.linalg.pinv(xs))\n",
    "    den = 1 - np.diagonal(hat)\n",
    "    sqr = np.square(res / den)\n",
    "    return sqr.sum()\n",
    "\n",
    "\n",
    "def predicted_r2(Y, y_pred2, xs):\n",
    "    press = press_statistic(Y=Y, y_pred2=y_pred2, xs=xs)\n",
    "    sst = np.square(Y - Y.mean()).sum()\n",
    "    return 1 - press / sst\n",
    "\n",
    "\n",
    "def r2(Y, y_pred2):\n",
    "    sse = np.square(y_pred2 - Y).sum()\n",
    "    sst = np.square(Y - Y.mean()).sum()\n",
    "    return 1 - sse / sst"
   ]
  },
  {
   "cell_type": "markdown",
   "metadata": {},
   "source": [
    "# Building Models:\n",
    "- Models' hyperparameters previously tuned with Bayesian optimization "
   ]
  },
  {
   "cell_type": "code",
   "execution_count": 10,
   "metadata": {},
   "outputs": [],
   "source": [
    "xgb =  xgboost.XGBRegressor(learning_rate=0.2, max_depth=3, n_estimators=50, random_state=seed, reg_alpha=1, reg_lambda=6)\n",
    "\n",
    "lgbm = LGBMRegressor(learning_rate=0.1478572369480306, max_depth=3, n_estimators=50,\n",
    "              random_state=0, reg_alpha=1, reg_lambda=1)\n",
    "\n",
    "cb = CatBoostRegressor(depth=4, iterations=50, learning_rate=0.11772633618138172, random_seed=seed, verbose=False)\n",
    "\n",
    "\n",
    "gbm = GradientBoostingRegressor(learning_rate=0.1093170713412033, max_depth=4,\n",
    "                          max_features='sqrt', n_estimators=50, random_state=0)\n",
    "\n",
    "rf = RandomForestRegressor(criterion='mse', max_depth=4, max_features='log2',\n",
    "                      n_estimators=50, random_state=0)\n",
    "\n",
    "dt = DecisionTreeRegressor(criterion='mse', max_depth=3, max_features='auto',\n",
    "                      random_state=0)\n",
    "\n",
    "et = ExtraTreesRegressor(criterion='mse', max_depth=4, n_estimators=44,\n",
    "                    random_state=0)\n",
    "\n",
    "knn =  KNeighborsRegressor(metric='manhattan', n_neighbors=17, weights='distance')\n",
    "\n",
    "svr = SVR(C=1000.0, gamma=0.001)\n",
    "\n",
    "lasso = Lasso(alpha=0.001, max_iter=5000, random_state=0)\n",
    "\n",
    "elastic = ElasticNet(alpha=0.001, l1_ratio=0.0, random_state=0, tol=1)\n",
    "\n",
    "results = []\n",
    "names = []\n",
    "scoring = [\n",
    "    \"r2\",\n",
    "    \"neg_mean_squared_error\",\n",
    "    \"max_error\",\n",
    "    \"neg_mean_absolute_error\",\n",
    "    \"explained_variance\",\n",
    "    \"neg_root_mean_squared_error\",\n",
    "    \"neg_median_absolute_error\",\n",
    "]\n",
    "\n",
    "inner_cv = RepeatedKFold(n_splits=5, n_repeats=3, random_state=seed)\n",
    "outer_cv = RepeatedKFold(n_splits=5, n_repeats=3, random_state=seed)"
   ]
  },
  {
   "cell_type": "markdown",
   "metadata": {},
   "source": [
    "## Stacking Regressor:"
   ]
  },
  {
   "cell_type": "code",
   "execution_count": 11,
   "metadata": {},
   "outputs": [
    {
     "name": "stdout",
     "output_type": "stream",
     "text": [
      "Stacking r2 CV {'fit_time': array([2.65209007, 2.42366576, 2.40244198, 2.42792916, 2.56486678,\n",
      "       2.41675091, 2.73693299, 2.56943989, 2.35900593, 2.3772459 ,\n",
      "       2.39188719, 2.46338296, 2.36363101, 2.63083601, 2.46666718]), 'score_time': array([0.05829978, 0.05995011, 0.04520392, 0.05731797, 0.05903506,\n",
      "       0.04872704, 0.05615401, 0.0554769 , 0.05630016, 0.05641222,\n",
      "       0.05739188, 0.05654597, 0.05771899, 0.05475307, 0.05623484]), 'test_r2': array([0.55969372, 0.63066885, 0.78601661, 0.72936449, 0.70386497,\n",
      "       0.87151283, 0.68248474, 0.62473318, 0.65096193, 0.64939503,\n",
      "       0.53214258, 0.79728651, 0.85243652, 0.52808112, 0.74607075]), 'test_neg_mean_squared_error': array([-0.01150579, -0.00946588, -0.00824201, -0.00859986, -0.01030107,\n",
      "       -0.00438215, -0.01237766, -0.00946318, -0.01045862, -0.00973751,\n",
      "       -0.0148669 , -0.0058706 , -0.00568371, -0.01233186, -0.00798449]), 'test_max_error': array([-0.66299042, -0.58961811, -0.52844723, -0.61833307, -0.63856312,\n",
      "       -0.4576942 , -0.64667519, -0.62240054, -0.64592674, -0.60471525,\n",
      "       -0.63263919, -0.50283065, -0.53771523, -0.65804418, -0.51839926]), 'test_neg_mean_absolute_error': array([-0.04082164, -0.03778735, -0.03608663, -0.03642752, -0.04477776,\n",
      "       -0.02832566, -0.0390591 , -0.03654671, -0.04170399, -0.03888789,\n",
      "       -0.04929031, -0.03206869, -0.03306672, -0.03980821, -0.04217206]), 'test_explained_variance': array([0.58673744, 0.63386426, 0.7866671 , 0.73022407, 0.70448942,\n",
      "       0.87209749, 0.68642216, 0.63710874, 0.65173497, 0.65495487,\n",
      "       0.53893862, 0.79807013, 0.85470263, 0.5334978 , 0.74627235]), 'test_neg_root_mean_squared_error': array([-0.10726502, -0.09729277, -0.09078549, -0.09273545, -0.10149421,\n",
      "       -0.06619781, -0.11125492, -0.09727887, -0.10226739, -0.0986788 ,\n",
      "       -0.12192988, -0.07661987, -0.07539037, -0.11104893, -0.08935596]), 'test_neg_median_absolute_error': array([-0.00800914, -0.00744343, -0.00580996, -0.00566405, -0.01126501,\n",
      "       -0.00959152, -0.00646806, -0.00293791, -0.00546223, -0.00922826,\n",
      "       -0.00781119, -0.00597531, -0.00914091, -0.00764   , -0.0095751 ])}\n",
      "Nested CV results for all scores: \n",
      " {'fit_time': array([2.65209007, 2.42366576, 2.40244198, 2.42792916, 2.56486678,\n",
      "       2.41675091, 2.73693299, 2.56943989, 2.35900593, 2.3772459 ,\n",
      "       2.39188719, 2.46338296, 2.36363101, 2.63083601, 2.46666718]), 'score_time': array([0.05829978, 0.05995011, 0.04520392, 0.05731797, 0.05903506,\n",
      "       0.04872704, 0.05615401, 0.0554769 , 0.05630016, 0.05641222,\n",
      "       0.05739188, 0.05654597, 0.05771899, 0.05475307, 0.05623484]), 'test_r2': array([0.55969372, 0.63066885, 0.78601661, 0.72936449, 0.70386497,\n",
      "       0.87151283, 0.68248474, 0.62473318, 0.65096193, 0.64939503,\n",
      "       0.53214258, 0.79728651, 0.85243652, 0.52808112, 0.74607075]), 'test_neg_mean_squared_error': array([-0.01150579, -0.00946588, -0.00824201, -0.00859986, -0.01030107,\n",
      "       -0.00438215, -0.01237766, -0.00946318, -0.01045862, -0.00973751,\n",
      "       -0.0148669 , -0.0058706 , -0.00568371, -0.01233186, -0.00798449]), 'test_max_error': array([-0.66299042, -0.58961811, -0.52844723, -0.61833307, -0.63856312,\n",
      "       -0.4576942 , -0.64667519, -0.62240054, -0.64592674, -0.60471525,\n",
      "       -0.63263919, -0.50283065, -0.53771523, -0.65804418, -0.51839926]), 'test_neg_mean_absolute_error': array([-0.04082164, -0.03778735, -0.03608663, -0.03642752, -0.04477776,\n",
      "       -0.02832566, -0.0390591 , -0.03654671, -0.04170399, -0.03888789,\n",
      "       -0.04929031, -0.03206869, -0.03306672, -0.03980821, -0.04217206]), 'test_explained_variance': array([0.58673744, 0.63386426, 0.7866671 , 0.73022407, 0.70448942,\n",
      "       0.87209749, 0.68642216, 0.63710874, 0.65173497, 0.65495487,\n",
      "       0.53893862, 0.79807013, 0.85470263, 0.5334978 , 0.74627235]), 'test_neg_root_mean_squared_error': array([-0.10726502, -0.09729277, -0.09078549, -0.09273545, -0.10149421,\n",
      "       -0.06619781, -0.11125492, -0.09727887, -0.10226739, -0.0986788 ,\n",
      "       -0.12192988, -0.07661987, -0.07539037, -0.11104893, -0.08935596]), 'test_neg_median_absolute_error': array([-0.00800914, -0.00744343, -0.00580996, -0.00566405, -0.01126501,\n",
      "       -0.00959152, -0.00646806, -0.00293791, -0.00546223, -0.00922826,\n",
      "       -0.00781119, -0.00597531, -0.00914091, -0.00764   , -0.0095751 ])} \n",
      "\n",
      "r2 Nested CV Median 0.6824847370804312\n",
      "MSE Nested CV Median -0.009465882828207319\n",
      "RMSE Nested CV Median -0.0972927686326549\n",
      "Explained Variance Nested CV Median 0.6864221641642796\n",
      "MAE Nested CV Median -0.03888789411634207\n",
      "Stacking predicted r2: 0.7934068882532678\n",
      "Stacking Test r2: 0.43554774418390274\n",
      "Stacking Test MSE: 0.014749883703446378\n",
      "Stacking Test Explained Variance Score: 0.46987888886129237\n",
      "Stacking Test MAE: 0.041343156160404966\n",
      "Stacking Test Max Error: 0.646541602909565\n"
     ]
    }
   ],
   "source": [
    "estimators = [\n",
    "    (\"XGBR\", xgb),\n",
    "    (\"GBR\", gbm),\n",
    "    (\"RFR\", rf),\n",
    "    (\"LGBM\", lgbm),\n",
    "    (\"CB\", cb),\n",
    "    (\"ET\", et),\n",
    "    (\"DT\", dt),\n",
    "    (\"KNN\", knn),\n",
    "    (\"SVR\", svr),\n",
    "    (\"LASSO\", lasso),\n",
    "    (\"ElasticNet\", elastic),\n",
    "\n",
    "]\n",
    "\n",
    "stacker = StackingRegressor(\n",
    "    estimators=estimators,\n",
    "    final_estimator = xgboost.XGBRegressor(learning_rate=0.2, max_depth=3, n_estimators=50, random_state=seed, reg_alpha=1, reg_lambda=6)\n",
    ")\n",
    "cv_results = model_selection.cross_validate(\n",
    "        stacker, X, Y, cv=outer_cv, scoring=scoring\n",
    ")\n",
    "print(\"Stacking r2 CV\", cv_results)\n",
    "print('Nested CV results for all scores:', '\\n', cv_results, '\\n')\n",
    "print('r2 Nested CV Median', np.median(cv_results['test_r2']))\n",
    "print('MSE Nested CV Median', np.median(cv_results['test_neg_mean_squared_error'] ))\n",
    "print('RMSE Nested CV Median', np.median(cv_results['test_neg_root_mean_squared_error'] ))\n",
    "print('Explained Variance Nested CV Median', np.median(cv_results['test_explained_variance'] ))\n",
    "print('MAE Nested CV Median', np.median(cv_results['test_neg_mean_absolute_error'] ))\n",
    "stacker.fit(X, Y)\n",
    "y_pred = stacker.predict(X)\n",
    "print(\"Stacking predicted r2:\", predicted_r2(Y, y_pred, X))\n",
    "\n",
    "stacker.fit(X_train, Y_train)\n",
    "\n",
    "y_pred = stacker.predict(X_test)\n",
    "print(\"Stacking Test r2:\", r2_score(Y_test, y_pred))\n",
    "print(\"Stacking Test MSE:\", mean_squared_error(Y_test, y_pred))\n",
    "print(\n",
    "    \"Stacking Test Explained Variance Score:\",\n",
    "    explained_variance_score(Y_test, y_pred),\n",
    ")\n",
    "print(\"Stacking Test MAE:\", mean_absolute_error(Y_test, y_pred))\n",
    "print(\"Stacking Test Max Error:\", max_error(Y_test, y_pred))"
   ]
  },
  {
   "cell_type": "code",
   "execution_count": 13,
   "metadata": {},
   "outputs": [
    {
     "name": "stdout",
     "output_type": "stream",
     "text": [
      "stacking r2: 0.8402496856611482\n",
      "stacking Predicted r2: 0.7934068882532678\n"
     ]
    }
   ],
   "source": [
    "stacker.fit(X, Y)\n",
    "y_true = Y\n",
    "y_pred = stacker.predict(X)\n",
    "xs = X\n",
    "\n",
    "\n",
    "print(\"stacking r2:\", r2(y_true, y_pred))\n",
    "print(\"stacking Predicted r2:\", predicted_r2(y_true, y_pred, xs))"
   ]
  },
  {
   "cell_type": "markdown",
   "metadata": {},
   "source": [
    "## Bagging Regressor:"
   ]
  },
  {
   "cell_type": "code",
   "execution_count": 10,
   "metadata": {},
   "outputs": [
    {
     "name": "stdout",
     "output_type": "stream",
     "text": [
      "Bagging Regressor Nested CV results for all scores: \n",
      " {'fit_time': array([2.31845212, 0.192976  , 0.19178963, 0.19616604, 0.19088697,\n",
      "       0.19059181, 0.18550706, 0.19001389, 0.19048119, 0.18465018,\n",
      "       0.18966722, 0.19518471, 0.19500971, 0.18712425, 0.19362521]), 'score_time': array([0.03024483, 0.02873802, 0.02778506, 0.02869105, 0.02792406,\n",
      "       0.02719998, 0.02740097, 0.02936792, 0.02747393, 0.02673173,\n",
      "       0.0303731 , 0.02942538, 0.02866602, 0.02942181, 0.02879477]), 'test_r2': array([0.43581198, 0.57823051, 0.78753025, 0.75034049, 0.71568838,\n",
      "       0.78875216, 0.621498  , 0.72647138, 0.58557929, 0.58580317,\n",
      "       0.55561634, 0.78672034, 0.82978715, 0.44827513, 0.73747122]), 'test_neg_mean_squared_error': array([-0.01474298, -0.01080987, -0.0081837 , -0.00793332, -0.0098898 ,\n",
      "       -0.00720476, -0.01475509, -0.00689763, -0.01241775, -0.01150367,\n",
      "       -0.01412098, -0.0061766 , -0.00655609, -0.0144173 , -0.00825489]), 'test_max_error': array([-0.62039842, -0.52358367, -0.56336209, -0.63231447, -0.62647738,\n",
      "       -0.51036968, -0.643137  , -0.61381587, -0.6031039 , -0.62381938,\n",
      "       -0.54330077, -0.46620222, -0.45623007, -0.61470582, -0.59964409]), 'test_neg_mean_absolute_error': array([-0.05122813, -0.04836539, -0.04309839, -0.03999594, -0.04458079,\n",
      "       -0.03993322, -0.04797836, -0.04022979, -0.04880424, -0.05449458,\n",
      "       -0.05399185, -0.03800995, -0.04014106, -0.05007222, -0.0398307 ]), 'test_explained_variance': array([0.46556979, 0.57832656, 0.78754977, 0.7503674 , 0.71691384,\n",
      "       0.78875239, 0.6273763 , 0.73600719, 0.58896589, 0.5957294 ,\n",
      "       0.56135193, 0.78674004, 0.83237472, 0.44912818, 0.73765658]), 'test_neg_root_mean_squared_error': array([-0.12142067, -0.10397051, -0.09046383, -0.08906918, -0.09944745,\n",
      "       -0.08488089, -0.12147055, -0.08305194, -0.11143497, -0.10725516,\n",
      "       -0.11883173, -0.07859136, -0.08096971, -0.12007206, -0.09085642]), 'test_neg_median_absolute_error': array([-0.01028168, -0.01113218, -0.01601207, -0.01235473, -0.01126593,\n",
      "       -0.01172423, -0.01124483, -0.01397836, -0.01077926, -0.01306152,\n",
      "       -0.01329893, -0.01027906, -0.01023495, -0.01277387, -0.01023689])} \n",
      "\n",
      "Bagging r2 CV {'fit_time': array([2.31845212, 0.192976  , 0.19178963, 0.19616604, 0.19088697,\n",
      "       0.19059181, 0.18550706, 0.19001389, 0.19048119, 0.18465018,\n",
      "       0.18966722, 0.19518471, 0.19500971, 0.18712425, 0.19362521]), 'score_time': array([0.03024483, 0.02873802, 0.02778506, 0.02869105, 0.02792406,\n",
      "       0.02719998, 0.02740097, 0.02936792, 0.02747393, 0.02673173,\n",
      "       0.0303731 , 0.02942538, 0.02866602, 0.02942181, 0.02879477]), 'test_r2': array([0.43581198, 0.57823051, 0.78753025, 0.75034049, 0.71568838,\n",
      "       0.78875216, 0.621498  , 0.72647138, 0.58557929, 0.58580317,\n",
      "       0.55561634, 0.78672034, 0.82978715, 0.44827513, 0.73747122]), 'test_neg_mean_squared_error': array([-0.01474298, -0.01080987, -0.0081837 , -0.00793332, -0.0098898 ,\n",
      "       -0.00720476, -0.01475509, -0.00689763, -0.01241775, -0.01150367,\n",
      "       -0.01412098, -0.0061766 , -0.00655609, -0.0144173 , -0.00825489]), 'test_max_error': array([-0.62039842, -0.52358367, -0.56336209, -0.63231447, -0.62647738,\n",
      "       -0.51036968, -0.643137  , -0.61381587, -0.6031039 , -0.62381938,\n",
      "       -0.54330077, -0.46620222, -0.45623007, -0.61470582, -0.59964409]), 'test_neg_mean_absolute_error': array([-0.05122813, -0.04836539, -0.04309839, -0.03999594, -0.04458079,\n",
      "       -0.03993322, -0.04797836, -0.04022979, -0.04880424, -0.05449458,\n",
      "       -0.05399185, -0.03800995, -0.04014106, -0.05007222, -0.0398307 ]), 'test_explained_variance': array([0.46556979, 0.57832656, 0.78754977, 0.7503674 , 0.71691384,\n",
      "       0.78875239, 0.6273763 , 0.73600719, 0.58896589, 0.5957294 ,\n",
      "       0.56135193, 0.78674004, 0.83237472, 0.44912818, 0.73765658]), 'test_neg_root_mean_squared_error': array([-0.12142067, -0.10397051, -0.09046383, -0.08906918, -0.09944745,\n",
      "       -0.08488089, -0.12147055, -0.08305194, -0.11143497, -0.10725516,\n",
      "       -0.11883173, -0.07859136, -0.08096971, -0.12007206, -0.09085642]), 'test_neg_median_absolute_error': array([-0.01028168, -0.01113218, -0.01601207, -0.01235473, -0.01126593,\n",
      "       -0.01172423, -0.01124483, -0.01397836, -0.01077926, -0.01306152,\n",
      "       -0.01329893, -0.01027906, -0.01023495, -0.01277387, -0.01023689])}\n",
      "r2 CV Median 0.7156883844834614\n",
      "MSE CV Median -0.00988979620462652\n",
      "RMSE CV Median -0.09944745449043188\n",
      "Explained Variance CV Median 0.7169138376582813\n",
      "MAE CV Median -0.04458078693598509\n",
      "Bagging Regressor predicted r2: 0.7953440336042631\n",
      "Bagging Test r2: 0.49304507984895685\n",
      "Bagging Test MSE: 0.013247402305632852\n",
      "Bagging Test Explained Variance Score: 0.5239540680560058\n",
      "Bagging Test MAE: 0.05195899291068131\n",
      "Bagging Test Max Error: 0.6159941256046295\n"
     ]
    }
   ],
   "source": [
    "bagging_xgb = BaggingRegressor(base_estimator=xgb, n_estimators=10, oob_score=True, random_state=seed, n_jobs=-1)\n",
    "\n",
    "nested_cv_results = model_selection.cross_validate(bagging_xgb, X , Y, cv=outer_cv, scoring=scoring)\n",
    "print('Bagging Regressor Nested CV results for all scores:', '\\n', nested_cv_results, '\\n')\n",
    "print(\"Bagging r2 CV\", nested_cv_results)\n",
    "print('r2 CV Median', np.median(nested_cv_results['test_r2']))\n",
    "print('MSE CV Median', np.median(nested_cv_results['test_neg_mean_squared_error'] ))\n",
    "print('RMSE CV Median', np.median(nested_cv_results['test_neg_root_mean_squared_error'] ))\n",
    "print('Explained Variance CV Median', np.median(nested_cv_results['test_explained_variance'] ))\n",
    "print('MAE CV Median', np.median(nested_cv_results['test_neg_mean_absolute_error'] ))\n",
    "bagging_xgb.fit(X, Y)\n",
    "y_pred = bagging_xgb.predict(X)\n",
    "print(\"Bagging Regressor predicted r2:\", predicted_r2(Y, y_pred, X))\n",
    "\n",
    "bagging_xgb.fit(X_train, Y_train)\n",
    "y_pred = bagging_xgb.predict(X_test)\n",
    "print(\"Bagging Test r2:\", r2_score(Y_test, y_pred))\n",
    "print(\"Bagging Test MSE:\", mean_squared_error(Y_test, y_pred))\n",
    "print(\"Bagging Test Explained Variance Score:\", explained_variance_score(Y_test, y_pred))\n",
    "print(\"Bagging Test MAE:\", mean_absolute_error(Y_test, y_pred))\n",
    "print(\"Bagging Test Max Error:\", max_error(Y_test, y_pred))"
   ]
  },
  {
   "cell_type": "code",
   "execution_count": 13,
   "metadata": {},
   "outputs": [
    {
     "name": "stdout",
     "output_type": "stream",
     "text": [
      "bagging_xgb r2: 0.8441371443782102\n",
      "bagging_xgb Predicted r2: 0.7953440336042631\n"
     ]
    }
   ],
   "source": [
    "bagging_xgb.fit(X, Y)\n",
    "y_true = Y\n",
    "y_pred = bagging_xgb.predict(X)\n",
    "xs = X\n",
    "\n",
    "\n",
    "print(\"bagging_xgb r2:\", r2(y_true, y_pred))\n",
    "print(\"bagging_xgb Predicted r2:\", predicted_r2(y_true, y_pred, xs))"
   ]
  },
  {
   "cell_type": "markdown",
   "metadata": {},
   "source": [
    "## Voting Regressor:"
   ]
  },
  {
   "cell_type": "code",
   "execution_count": 14,
   "metadata": {},
   "outputs": [
    {
     "name": "stdout",
     "output_type": "stream",
     "text": [
      "Voting r2 CV {'fit_time': array([0.50081778, 0.49336433, 0.46647906, 0.54679585, 0.561939  ,\n",
      "       0.48570895, 0.52429891, 0.52254391, 0.51401329, 0.53150582,\n",
      "       0.5437808 , 0.5410049 , 0.52506018, 0.48585916, 0.5036931 ]), 'score_time': array([0.05802226, 0.0583148 , 0.04484701, 0.05766296, 0.05896592,\n",
      "       0.04995704, 0.05564117, 0.05574393, 0.05608296, 0.05684423,\n",
      "       0.05784822, 0.05789804, 0.05604362, 0.05338168, 0.05659294]), 'test_r2': array([0.55558443, 0.55065817, 0.69837423, 0.65987795, 0.5832834 ,\n",
      "       0.69089938, 0.54915155, 0.62880703, 0.55555697, 0.65027657,\n",
      "       0.55025446, 0.64796962, 0.76680165, 0.37386461, 0.68490204]), 'test_neg_mean_squared_error': array([-0.01161317, -0.01151654, -0.01161773, -0.01080791, -0.01449551,\n",
      "       -0.01054211, -0.01757537, -0.00936045, -0.01331735, -0.00971302,\n",
      "       -0.01429136, -0.01019484, -0.00898211, -0.01636175, -0.00990786]), 'test_max_error': array([-0.48681138, -0.54223947, -0.53681975, -0.59099351, -0.58835135,\n",
      "       -0.54132941, -0.59714146, -0.54212908, -0.62004099, -0.51145993,\n",
      "       -0.59415359, -0.51356006, -0.44159307, -0.5922277 , -0.52334921]), 'test_neg_mean_absolute_error': array([-0.06057504, -0.05688679, -0.06152514, -0.05671513, -0.0643646 ,\n",
      "       -0.05454654, -0.06697375, -0.05591616, -0.06220872, -0.05761662,\n",
      "       -0.06648999, -0.0551311 , -0.0568282 , -0.06451924, -0.05480477]), 'test_explained_variance': array([0.58145825, 0.55245248, 0.69917868, 0.66584465, 0.58518156,\n",
      "       0.69097213, 0.54985989, 0.65496949, 0.56577543, 0.66402857,\n",
      "       0.56014611, 0.65083156, 0.76881419, 0.37803124, 0.6876999 ]), 'test_neg_root_mean_squared_error': array([-0.1077644 , -0.10731515, -0.10778557, -0.10396108, -0.12039731,\n",
      "       -0.10267476, -0.13257212, -0.0967494 , -0.1154008 , -0.09855466,\n",
      "       -0.11954649, -0.10096949, -0.09477399, -0.12791304, -0.09953824]), 'test_neg_median_absolute_error': array([-0.02694115, -0.0287673 , -0.03010637, -0.02544767, -0.02599079,\n",
      "       -0.02390833, -0.02741702, -0.02727818, -0.02631951, -0.02628619,\n",
      "       -0.03001298, -0.02710903, -0.02625575, -0.02821834, -0.02402066])}\n",
      "Nested CV results for all scores: \n",
      " {'fit_time': array([0.50081778, 0.49336433, 0.46647906, 0.54679585, 0.561939  ,\n",
      "       0.48570895, 0.52429891, 0.52254391, 0.51401329, 0.53150582,\n",
      "       0.5437808 , 0.5410049 , 0.52506018, 0.48585916, 0.5036931 ]), 'score_time': array([0.05802226, 0.0583148 , 0.04484701, 0.05766296, 0.05896592,\n",
      "       0.04995704, 0.05564117, 0.05574393, 0.05608296, 0.05684423,\n",
      "       0.05784822, 0.05789804, 0.05604362, 0.05338168, 0.05659294]), 'test_r2': array([0.55558443, 0.55065817, 0.69837423, 0.65987795, 0.5832834 ,\n",
      "       0.69089938, 0.54915155, 0.62880703, 0.55555697, 0.65027657,\n",
      "       0.55025446, 0.64796962, 0.76680165, 0.37386461, 0.68490204]), 'test_neg_mean_squared_error': array([-0.01161317, -0.01151654, -0.01161773, -0.01080791, -0.01449551,\n",
      "       -0.01054211, -0.01757537, -0.00936045, -0.01331735, -0.00971302,\n",
      "       -0.01429136, -0.01019484, -0.00898211, -0.01636175, -0.00990786]), 'test_max_error': array([-0.48681138, -0.54223947, -0.53681975, -0.59099351, -0.58835135,\n",
      "       -0.54132941, -0.59714146, -0.54212908, -0.62004099, -0.51145993,\n",
      "       -0.59415359, -0.51356006, -0.44159307, -0.5922277 , -0.52334921]), 'test_neg_mean_absolute_error': array([-0.06057504, -0.05688679, -0.06152514, -0.05671513, -0.0643646 ,\n",
      "       -0.05454654, -0.06697375, -0.05591616, -0.06220872, -0.05761662,\n",
      "       -0.06648999, -0.0551311 , -0.0568282 , -0.06451924, -0.05480477]), 'test_explained_variance': array([0.58145825, 0.55245248, 0.69917868, 0.66584465, 0.58518156,\n",
      "       0.69097213, 0.54985989, 0.65496949, 0.56577543, 0.66402857,\n",
      "       0.56014611, 0.65083156, 0.76881419, 0.37803124, 0.6876999 ]), 'test_neg_root_mean_squared_error': array([-0.1077644 , -0.10731515, -0.10778557, -0.10396108, -0.12039731,\n",
      "       -0.10267476, -0.13257212, -0.0967494 , -0.1154008 , -0.09855466,\n",
      "       -0.11954649, -0.10096949, -0.09477399, -0.12791304, -0.09953824]), 'test_neg_median_absolute_error': array([-0.02694115, -0.0287673 , -0.03010637, -0.02544767, -0.02599079,\n",
      "       -0.02390833, -0.02741702, -0.02727818, -0.02631951, -0.02628619,\n",
      "       -0.03001298, -0.02710903, -0.02625575, -0.02821834, -0.02402066])} \n",
      "\n",
      "r2 Nested CV Median 0.6288070264774797\n",
      "MSE Nested CV Median -0.011516540387822002\n",
      "RMSE Nested CV Median -0.10731514519312735\n",
      "Explained Variance Nested CV Median 0.6508315607331249\n",
      "MAE Nested CV Median -0.05761662025304026\n",
      "Voting predicted r2: 0.7900296027450284\n",
      "Voting Test r2: 0.5482242789195133\n",
      "Voting Test MSE: 0.01180549688182816\n",
      "Voting Test Explained Variance Score: 0.57388966192562\n",
      "Voting Test MAE: 0.06098017399149924\n",
      "Voting Test Max Error: 0.48533885093516194\n"
     ]
    }
   ],
   "source": [
    "model1 = xgb.fit(X_train, Y_train)\n",
    "model2 = gbm.fit(X_train, Y_train)\n",
    "model3 = xgb.fit(X_train, Y_train)\n",
    "model4 = cb.fit(X_train, Y_train)\n",
    "model5 = rf.fit(X_train, Y_train)\n",
    "model6 = et.fit(X_train, Y_train)\n",
    "model7 = dt.fit(X_train, Y_train)\n",
    "model8 = knn.fit(X_train, Y_train)\n",
    "model9 = svr.fit(X_train, Y_train)\n",
    "model10 = lasso.fit(X_train, Y_train)\n",
    "model11 = elastic.fit(X_train, Y_train)\n",
    "\n",
    "vote = VotingRegressor([(\"xgbr\", model1), (\"gbr\", model2), (\"xgb\", model3),\n",
    "                       (\"cb\", model4), (\"rf\", model5), (\"et\", model6),\n",
    "                       (\"dt\", model7), (\"knn\", model8), (\"svr\", model9),\n",
    "                       (\"lasso\", model10), (\"elasticnet\", model11)])\n",
    "\n",
    "cv_results = model_selection.cross_validate(\n",
    "        vote, X, Y, cv=outer_cv, scoring=scoring\n",
    ")\n",
    "print(\"Voting r2 CV\", cv_results)\n",
    "print('Nested CV results for all scores:', '\\n', cv_results, '\\n')\n",
    "print('r2 Nested CV Median', np.median(cv_results['test_r2']))\n",
    "print('MSE Nested CV Median', np.median(cv_results['test_neg_mean_squared_error'] ))\n",
    "print('RMSE Nested CV Median', np.median(cv_results['test_neg_root_mean_squared_error'] ))\n",
    "print('Explained Variance Nested CV Median', np.median(cv_results['test_explained_variance'] ))\n",
    "print('MAE Nested CV Median', np.median(cv_results['test_neg_mean_absolute_error'] ))\n",
    "vote.fit(X, Y)\n",
    "y_pred = vote.predict(X)\n",
    "print(\"Voting predicted r2:\", predicted_r2(Y, y_pred, X))\n",
    "\n",
    "vote.fit(X_train, Y_train)\n",
    "\n",
    "y_pred = vote.predict(X_test)\n",
    "print(\"Voting Test r2:\", r2_score(Y_test, y_pred))\n",
    "print(\"Voting Test MSE:\", mean_squared_error(Y_test, y_pred))\n",
    "print(\n",
    "    \"Voting Test Explained Variance Score:\",\n",
    "    explained_variance_score(Y_test, y_pred),\n",
    ")\n",
    "print(\"Voting Test MAE:\", mean_absolute_error(Y_test, y_pred))\n",
    "print(\"Voting Test Max Error:\", max_error(Y_test, y_pred))"
   ]
  },
  {
   "cell_type": "code",
   "execution_count": 15,
   "metadata": {},
   "outputs": [
    {
     "name": "stdout",
     "output_type": "stream",
     "text": [
      "voting r2: 0.808123048996449\n",
      "voting Predicted r2: 0.7900296027450284\n"
     ]
    }
   ],
   "source": [
    "vote.fit(X, Y)\n",
    "y_true = Y\n",
    "y_pred = vote.predict(X)\n",
    "xs = X\n",
    "\n",
    "\n",
    "print(\"voting r2:\", r2(y_true, y_pred))\n",
    "print(\"voting Predicted r2:\", predicted_r2(y_true, y_pred, xs))"
   ]
  },
  {
   "cell_type": "code",
   "execution_count": null,
   "metadata": {},
   "outputs": [],
   "source": []
  }
 ],
 "metadata": {
  "kernelspec": {
   "display_name": "Python 3 (ipykernel)",
   "language": "python",
   "name": "python3"
  },
  "language_info": {
   "codemirror_mode": {
    "name": "ipython",
    "version": 3
   },
   "file_extension": ".py",
   "mimetype": "text/x-python",
   "name": "python",
   "nbconvert_exporter": "python",
   "pygments_lexer": "ipython3",
   "version": "3.10.4"
  },
  "widgets": {
   "application/vnd.jupyter.widget-state+json": {
    "state": {},
    "version_major": 2,
    "version_minor": 0
   }
  }
 },
 "nbformat": 4,
 "nbformat_minor": 4
}
