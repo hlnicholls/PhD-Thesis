{
 "cells": [
  {
   "cell_type": "code",
   "execution_count": 1,
   "id": "0eaa5868-b315-42af-98bf-0df9aaecfc36",
   "metadata": {},
   "outputs": [],
   "source": [
    "import re\n",
    "\n",
    "import numpy as np\n",
    "import pandas as pd\n",
    "from numpy import sort\n",
    "from scipy.cluster import hierarchy\n",
    "from scipy.stats import spearmanr\n",
    "\n",
    "regex = re.compile(r\"\\[|\\]|<\", re.IGNORECASE)\n",
    "\n",
    "import seaborn as sns\n",
    "import shap\n",
    "import statsmodels.api as sm\n",
    "\n",
    "%matplotlib inline\n",
    "%config InlineBackend.figure_format ='retina'\n",
    "import statsmodels.stats.api as sms\n",
    "import xgboost\n",
    "from BorutaShap import BorutaShap\n",
    "from sklearn import datasets, metrics, model_selection, preprocessing\n",
    "from sklearn.ensemble import (\n",
    "    BaggingClassifier,\n",
    "    ExtraTreesClassifier,\n",
    "    GradientBoostingClassifier,\n",
    "    RandomForestClassifier,\n",
    "    StackingClassifier,\n",
    "    VotingClassifier,\n",
    ")\n",
    "from sklearn.svm import SVC\n",
    "from sklearn.linear_model import LogisticRegression\n",
    "\n",
    "import lightgbm\n",
    "from catboost import CatBoostClassifier\n",
    "from lightgbm import LGBMClassifier\n",
    "from sklearn.linear_model import ElasticNet, Lasso, LinearRegression\n",
    "from sklearn.metrics import *\n",
    "from sklearn.model_selection import (\n",
    "    GridSearchCV,\n",
    "    KFold,\n",
    "    RandomizedSearchCV,\n",
    "    StratifiedKFold,\n",
    "    RepeatedKFold,\n",
    "    cross_val_predict,\n",
    "    cross_val_score,\n",
    "    cross_validate,\n",
    "    learning_curve,\n",
    "    train_test_split,\n",
    "    validation_curve,\n",
    ")\n",
    "from sklearn.neighbors import KNeighborsClassifier\n",
    "from sklearn.preprocessing import MinMaxScaler\n",
    "from sklearn.tree import DecisionTreeClassifier\n",
    "from skopt import BayesSearchCV\n",
    "from skopt.plots import plot_convergence\n",
    "\n",
    "from imblearn.pipeline import make_pipeline\n",
    "from imblearn.over_sampling import ADASYN, SMOTE, BorderlineSMOTE, SVMSMOTE, SMOTENC, RandomOverSampler\n",
    "from imblearn.base import BaseSampler\n",
    "from imblearn.datasets import make_imbalance\n",
    "\n",
    "sns.set_style(\"darkgrid\")\n",
    "sns.mpl.rcParams[\"figure.figsize\"] = (15.0, 9.0)\n",
    "\n",
    "import warnings\n",
    "\n",
    "import matplotlib\n",
    "import matplotlib.pyplot as plt\n",
    "\n",
    "warnings.simplefilter(action=\"ignore\", category=FutureWarning)\n",
    "from warnings import filterwarnings\n",
    "\n",
    "filterwarnings(\"ignore\")\n",
    "\n",
    "seed = 0"
   ]
  },
  {
   "cell_type": "code",
   "execution_count": 2,
   "id": "ca37a895-7fd1-4e48-86bb-23a209af0cef",
   "metadata": {},
   "outputs": [],
   "source": [
    "data = pd.read_csv(\"training_cleaned.csv\", header=0, sep=\",\")\n",
    "\n",
    "data[\"BPlabel_encoded\"] = data[\"BPlabel\"].map(\n",
    "    {\"most likely\": 1, \"probable\": 2, \"least likely\": 3}\n",
    ")\n",
    "Y = data[\"BPlabel_encoded\"]\n",
    "data = data.drop([\"BPlabel\"], 1)"
   ]
  },
  {
   "cell_type": "code",
   "execution_count": 3,
   "id": "8eae62e6-142a-428e-b1c5-f223cd068fea",
   "metadata": {},
   "outputs": [],
   "source": [
    "X = pd.read_csv(\"selected_features_training_data.csv\", header=0)\n",
    "X.columns = [\n",
    "    regex.sub(\"_\", col) if any(x in str(col) for x in set((\"[\", \"]\", \"<\"))) else col\n",
    "    for col in X.columns.values\n",
    "]"
   ]
  },
  {
   "cell_type": "code",
   "execution_count": 4,
   "id": "305159b1-f76d-4088-90a5-ad413bb41820",
   "metadata": {},
   "outputs": [
    {
     "name": "stdout",
     "output_type": "stream",
     "text": [
      "Before OverSampling, the shape of X: (293, 6)\n",
      "Before OverSampling, the shape of y: (293,) \n",
      "\n",
      "After OverSampling, the shape of X: (447, 6)\n",
      "After OverSampling, the shape of y: (447,) \n",
      "\n",
      "After OverSampling, counts of label '1': 149\n",
      "After OverSampling, counts of label '2': 149\n",
      "After OverSampling, counts of label '3': 149\n"
     ]
    }
   ],
   "source": [
    "print('Before OverSampling, the shape of X: {}'.format(X.shape))\n",
    "print('Before OverSampling, the shape of y: {} \\n'.format(Y.shape))\n",
    "\n",
    "sm = SMOTE(random_state=seed)\n",
    "X, Y = sm.fit_resample(X, Y)\n",
    "\n",
    "print('After OverSampling, the shape of X: {}'.format(X.shape))\n",
    "print('After OverSampling, the shape of y: {} \\n'.format(Y.shape))\n",
    "\n",
    "print(\"After OverSampling, counts of label '1': {}\".format(sum(Y==1)))\n",
    "print(\"After OverSampling, counts of label '2': {}\".format(sum(Y==2)))\n",
    "print(\"After OverSampling, counts of label '3': {}\".format(sum(Y==3)))\n"
   ]
  },
  {
   "cell_type": "code",
   "execution_count": 5,
   "id": "8c69a8ec-05ac-4ac7-a60c-0ebaa0c4188d",
   "metadata": {},
   "outputs": [],
   "source": [
    "X_train, X_test, Y_train, Y_test = train_test_split(\n",
    "    X, Y, test_size=0.2, random_state=seed\n",
    ")"
   ]
  },
  {
   "cell_type": "code",
   "execution_count": 15,
   "id": "e8e791c0-e854-477d-9e9c-edff7bce7c95",
   "metadata": {},
   "outputs": [],
   "source": [
    "xgb =  xgboost.XGBClassifier(learning_rate=0.2, n_estimators=40, max_depth=4, random_state=0, reg_alpha=2, reg_lambda=3, eval_metric='mlogloss')\n",
    "\n",
    "\n",
    "lgbm =  LGBMClassifier(learning_rate=0.2, max_depth=4, n_estimators=33, random_state=0,\n",
    "               reg_alpha=1, reg_lambda=10)\n",
    "\n",
    "cb = CatBoostClassifier(depth=4, iterations=50, learning_rate=0.18265036304577847, random_seed=seed, verbose=False)\n",
    "\n",
    "\n",
    "gb = GradientBoostingClassifier(learning_rate=0.1872026709317995, max_depth=4,\n",
    "                           max_features='sqrt', n_estimators=50,\n",
    "                           random_state=0)\n",
    "                       \n",
    "rf = RandomForestClassifier(criterion='entropy', max_depth=4, n_estimators=25,\n",
    "                       random_state=0)\n",
    "\n",
    "dt = DecisionTreeClassifier(max_depth=4, max_features='sqrt', random_state=0)\n",
    "\n",
    "et = ExtraTreesClassifier(max_depth=4, max_features='log2', n_estimators=50,\n",
    "                     random_state=0)\n",
    "\n",
    "knn = KNeighborsClassifier(metric='manhattan', n_neighbors=7, weights='distance')\n",
    "\n",
    "svc = SVC(C=196.72280894954662)\n",
    "\n",
    "lr = LogisticRegression(C=0.5, max_iter=1000, random_state=0, solver='liblinear')\n",
    "results = []\n",
    "names = []\n",
    "scoring = ['accuracy', 'balanced_accuracy', 'f1_weighted', \n",
    "          'precision_weighted','recall_weighted']\n",
    "\n",
    "inner_cv = StratifiedKFold(n_splits=10, shuffle=True, random_state=seed)\n",
    "outer_cv = StratifiedKFold(n_splits=10, shuffle=True, random_state=seed)"
   ]
  },
  {
   "cell_type": "code",
   "execution_count": 16,
   "id": "7c6b1142-fa41-46ef-a672-2a145f61d4c8",
   "metadata": {},
   "outputs": [
    {
     "name": "stdout",
     "output_type": "stream",
     "text": [
      "Stacking CV results for all scores: {'fit_time': array([2.06740689, 1.90029907, 1.89683795, 1.97785902, 1.98129892,\n",
      "       2.01210189, 2.10046005, 2.03830218, 2.00066495, 1.89941096]), 'score_time': array([0.02955985, 0.02902102, 0.02932978, 0.0288558 , 0.03001976,\n",
      "       0.02939415, 0.03406501, 0.02835894, 0.02941418, 0.027807  ]), 'test_accuracy': array([0.77777778, 0.77777778, 0.82222222, 0.8       , 0.86666667,\n",
      "       0.86666667, 0.82222222, 0.75      , 0.84090909, 0.88636364]), 'test_balanced_accuracy': array([0.77777778, 0.77777778, 0.82222222, 0.8       , 0.86666667,\n",
      "       0.86666667, 0.82222222, 0.74920635, 0.84285714, 0.88412698]), 'test_f1_weighted': array([0.76762821, 0.77723885, 0.82365462, 0.80235856, 0.86488095,\n",
      "       0.8697479 , 0.81900452, 0.7512225 , 0.83904735, 0.88428759]), 'test_precision_weighted': array([0.77183601, 0.79891775, 0.83918129, 0.81196581, 0.86847662,\n",
      "       0.88663968, 0.83413078, 0.75626457, 0.84120775, 0.88792335]), 'test_recall_weighted': array([0.77777778, 0.77777778, 0.82222222, 0.8       , 0.86666667,\n",
      "       0.86666667, 0.82222222, 0.75      , 0.84090909, 0.88636364])}\n",
      "Accuracy CV Average 0.8222222222222222\n",
      "Balanced Accuracy CV Average 0.8222222222222223\n",
      "F1 CV Average 0.8213295731889376\n",
      "Precision CV Average 0.8366560340244551\n",
      "Recall CV Average 0.8222222222222222\n"
     ]
    }
   ],
   "source": [
    "estimators = [\n",
    "    (\"XGBR\", xgb),\n",
    "    (\"GBR\", gbm),\n",
    "    (\"RFR\", rf),\n",
    "    (\"LGBM\", lgbm),\n",
    "    (\"CB\", cb),\n",
    "    (\"ET\", et),\n",
    "    (\"DT\", dt),\n",
    "    (\"KNN\", knn),\n",
    "    (\"SVM\", svc),\n",
    "    (\"LR\", lr),\n",
    "\n",
    "]\n",
    "\n",
    "stacker = StackingClassifier(\n",
    "    estimators=estimators,\n",
    "    final_estimator= GradientBoostingClassifier(learning_rate=0.1872026709317995, max_depth=4,\n",
    "                           max_features='sqrt', n_estimators=50,\n",
    "                           random_state=0)\n",
    ")\n",
    "cv_results = model_selection.cross_validate(\n",
    "        stacker, X, Y, cv=outer_cv, scoring=scoring\n",
    ")\n",
    "print(\"Stacking CV results for all scores:\", cv_results)\n",
    "print('Accuracy CV Average', np.median(cv_results['test_accuracy']))\n",
    "print('Balanced Accuracy CV Average', np.median(cv_results['test_balanced_accuracy'] ))\n",
    "print('F1 CV Average', np.median(cv_results['test_f1_weighted'] ))\n",
    "print('Precision CV Average', np.median(cv_results['test_precision_weighted'] ))\n",
    "print('Recall CV Average', np.median(cv_results['test_recall_weighted'] ))\n"
   ]
  },
  {
   "cell_type": "code",
   "execution_count": 17,
   "id": "bbb5ab3e-d099-4ee3-a9bb-38ca590b36f1",
   "metadata": {},
   "outputs": [
    {
     "name": "stdout",
     "output_type": "stream",
     "text": [
      "Bagging Classifier CV results for all scores: \n",
      " {'fit_time': array([1.26468492, 0.20484591, 0.20970702, 0.20502996, 0.20488691,\n",
      "       0.20482302, 0.20526004, 0.20272493, 0.20372391, 0.2029767 ]), 'score_time': array([0.05916619, 0.05281806, 0.05088878, 0.05072713, 0.05406904,\n",
      "       0.05058694, 0.04927516, 0.05077505, 0.04990911, 0.04994106]), 'test_accuracy': array([0.73333333, 0.8       , 0.82222222, 0.8       , 0.91111111,\n",
      "       0.88888889, 0.84444444, 0.81818182, 0.84090909, 0.84090909]), 'test_balanced_accuracy': array([0.73333333, 0.8       , 0.82222222, 0.8       , 0.91111111,\n",
      "       0.88888889, 0.84444444, 0.81587302, 0.84285714, 0.83809524]), 'test_f1_weighted': array([0.71212121, 0.80135954, 0.82471264, 0.80172414, 0.91020115,\n",
      "       0.88804845, 0.84554598, 0.81818182, 0.83676042, 0.83708479]), 'test_precision_weighted': array([0.72222222, 0.80396825, 0.83053221, 0.80672269, 0.91316527,\n",
      "       0.88849206, 0.85014006, 0.81818182, 0.85082645, 0.83868093]), 'test_recall_weighted': array([0.73333333, 0.8       , 0.82222222, 0.8       , 0.91111111,\n",
      "       0.88888889, 0.84444444, 0.81818182, 0.84090909, 0.84090909])} \n",
      "\n",
      "Bagging Accuracy CV Average 0.8315656565656566\n",
      "Bagging Balanced Accuracy CV Average 0.8301587301587302\n",
      "Bagging F1 CV Average 0.8307365309716407\n",
      "Bagging Precision CV Average 0.8346065699006875\n",
      "Bagging Recall CV Average 0.8315656565656566\n"
     ]
    }
   ],
   "source": [
    "bagging = BaggingClassifier(base_estimator=gb, n_estimators=10, oob_score=True, random_state=seed, n_jobs=-1)\n",
    "\n",
    "cv_results = model_selection.cross_validate(bagging, X , Y, cv=outer_cv, scoring=scoring, error_score=\"raise\")\n",
    "print('Bagging Classifier CV results for all scores:', '\\n', cv_results, '\\n')\n",
    "print('Bagging Accuracy CV Average', np.median(cv_results['test_accuracy']))\n",
    "print('Bagging Balanced Accuracy CV Average', np.median(cv_results['test_balanced_accuracy'] ))\n",
    "print('Bagging F1 CV Average', np.median(cv_results['test_f1_weighted'] ))\n",
    "print('Bagging Precision CV Average', np.median(cv_results['test_precision_weighted'] ))\n",
    "print('Bagging Recall CV Average', np.median(cv_results['test_recall_weighted'] ))\n"
   ]
  },
  {
   "cell_type": "code",
   "execution_count": 18,
   "id": "340c998e-0135-4bbd-b33c-e084e96f3d5a",
   "metadata": {},
   "outputs": [
    {
     "name": "stdout",
     "output_type": "stream",
     "text": [
      "Voting CV results for all scores {'fit_time': array([0.29156089, 0.29241323, 0.29292393, 0.29046011, 0.29306602,\n",
      "       0.29485393, 0.29837918, 0.29136086, 0.29524589, 0.29566813]), 'score_time': array([0.02731419, 0.02718401, 0.02736592, 0.02706385, 0.02765584,\n",
      "       0.02978611, 0.0273447 , 0.02774334, 0.02724791, 0.02839971]), 'test_accuracy': array([0.75555556, 0.82222222, 0.82222222, 0.86666667, 0.88888889,\n",
      "       0.95555556, 0.8       , 0.77272727, 0.79545455, 0.81818182]), 'test_balanced_accuracy': array([0.75555556, 0.82222222, 0.82222222, 0.86666667, 0.88888889,\n",
      "       0.95555556, 0.8       , 0.77142857, 0.8       , 0.81587302]), 'test_f1_weighted': array([0.74500561, 0.81882218, 0.82301587, 0.86666667, 0.88721264,\n",
      "       0.95553084, 0.8       , 0.77429467, 0.7832578 , 0.8139132 ]), 'test_precision_weighted': array([0.74444444, 0.82434641, 0.82845651, 0.86666667, 0.88935574,\n",
      "       0.95694444, 0.8       , 0.77705628, 0.81127451, 0.81341453]), 'test_recall_weighted': array([0.75555556, 0.82222222, 0.82222222, 0.86666667, 0.88888889,\n",
      "       0.95555556, 0.8       , 0.77272727, 0.79545455, 0.81818182])}\n",
      "Accuracy CV Average 0.8202020202020202\n",
      "Balanced Accuracy CV Average 0.8190476190476191\n",
      "F1 CV Average 0.8163676902350661\n",
      "Precision CV Average 0.8188804659392894\n",
      "Recall CV Average 0.8202020202020202\n"
     ]
    }
   ],
   "source": [
    "model1 = xgb.fit(X_train, Y_train)\n",
    "model2 = gbm.fit(X_train, Y_train)\n",
    "model3 = lgbm.fit(X_train, Y_train)\n",
    "model4 = cb.fit(X_train, Y_train) #output predictions are not in the same dimensions as all others so needed to be removed (voting classifier error otherwise)\n",
    "model5 = rf.fit(X_train, Y_train)\n",
    "model6 = et.fit(X_train, Y_train)\n",
    "model7 = dt.fit(X_train, Y_train)\n",
    "model8 = knn.fit(X_train, Y_train)\n",
    "model9 = svc.fit(X_train, Y_train)\n",
    "model10 = lr.fit(X_train, Y_train)\n",
    "\n",
    "\n",
    "vote = VotingClassifier([(\"xgbr\", model1), (\"gbr\", model2), (\"lgbm\", model3),\n",
    "                      (\"rf\", model5), (\"et\", model6),\n",
    "                       (\"dt\", model7), (\"knn\", model8), (\"svm\", model9),\n",
    "                       (\"lr\", model10)], voting='hard')\n",
    "\n",
    "cv_results = model_selection.cross_validate(vote, X, Y, cv=outer_cv, scoring=scoring, error_score=\"raise\")\n",
    "\n",
    "print(\"Voting CV results for all scores\", cv_results)\n",
    "print('Accuracy CV Average', np.median(cv_results['test_accuracy']))\n",
    "print('Balanced Accuracy CV Average', np.median(cv_results['test_balanced_accuracy']))\n",
    "print('F1 CV Average', np.median(cv_results['test_f1_weighted'] ))\n",
    "print('Precision CV Average', np.median(cv_results['test_precision_weighted']))\n",
    "print('Recall CV Average', np.median(cv_results['test_recall_weighted']))\n"
   ]
  },
  {
   "cell_type": "code",
   "execution_count": 19,
   "id": "673a26df-f8ca-4145-bf05-d6b45f373311",
   "metadata": {},
   "outputs": [
    {
     "name": "stdout",
     "output_type": "stream",
     "text": [
      "              precision    recall  f1-score   support\n",
      "\n",
      " most likely       0.79      0.87      0.83        31\n",
      "    probable       0.75      0.67      0.71        27\n",
      "least likely       0.91      0.91      0.91        32\n",
      "\n",
      "    accuracy                           0.82        90\n",
      "   macro avg       0.82      0.81      0.81        90\n",
      "weighted avg       0.82      0.82      0.82        90\n",
      "\n"
     ]
    }
   ],
   "source": [
    "target_names = ['most likely', 'probable','least likely']\n",
    "stacker.fit(X_train, Y_train)\n",
    "predictions = list(stacker.predict(X_test))\n",
    "print(classification_report(Y_test, predictions, target_names=target_names))"
   ]
  },
  {
   "cell_type": "code",
   "execution_count": 20,
   "id": "5ccc5c00-676b-406b-a3f8-84db1f628fde",
   "metadata": {},
   "outputs": [
    {
     "name": "stdout",
     "output_type": "stream",
     "text": [
      "              precision    recall  f1-score   support\n",
      "\n",
      " most likely       0.87      0.84      0.85        31\n",
      "    probable       0.70      0.78      0.74        27\n",
      "least likely       0.93      0.88      0.90        32\n",
      "\n",
      "    accuracy                           0.83        90\n",
      "   macro avg       0.83      0.83      0.83        90\n",
      "weighted avg       0.84      0.83      0.84        90\n",
      "\n"
     ]
    }
   ],
   "source": [
    "vote.fit(X_train, Y_train)\n",
    "predictions = list(vote.predict(X_test))\n",
    "print(classification_report(Y_test, predictions, target_names=target_names))"
   ]
  },
  {
   "cell_type": "code",
   "execution_count": 21,
   "id": "f621046c-e75f-4674-9685-1be4c00dd3f7",
   "metadata": {},
   "outputs": [
    {
     "name": "stdout",
     "output_type": "stream",
     "text": [
      "              precision    recall  f1-score   support\n",
      "\n",
      " most likely       0.83      0.81      0.82        31\n",
      "    probable       0.76      0.81      0.79        27\n",
      "least likely       0.94      0.91      0.92        32\n",
      "\n",
      "    accuracy                           0.84        90\n",
      "   macro avg       0.84      0.84      0.84        90\n",
      "weighted avg       0.85      0.84      0.85        90\n",
      "\n"
     ]
    }
   ],
   "source": [
    "bagging.fit(X_train, Y_train)\n",
    "predictions = list(bagging.predict(X_test))\n",
    "print(classification_report(Y_test, predictions, target_names=target_names))"
   ]
  },
  {
   "cell_type": "code",
   "execution_count": null,
   "id": "251b1e9e-174b-41be-bf49-38702228f4b4",
   "metadata": {},
   "outputs": [],
   "source": []
  }
 ],
 "metadata": {
  "kernelspec": {
   "display_name": "Python 3",
   "language": "python",
   "name": "python3"
  },
  "language_info": {
   "codemirror_mode": {
    "name": "ipython",
    "version": 3
   },
   "file_extension": ".py",
   "mimetype": "text/x-python",
   "name": "python",
   "nbconvert_exporter": "python",
   "pygments_lexer": "ipython3",
   "version": "3.8.12"
  },
  "widgets": {
   "application/vnd.jupyter.widget-state+json": {
    "state": {},
    "version_major": 2,
    "version_minor": 0
   }
  }
 },
 "nbformat": 4,
 "nbformat_minor": 5
}
