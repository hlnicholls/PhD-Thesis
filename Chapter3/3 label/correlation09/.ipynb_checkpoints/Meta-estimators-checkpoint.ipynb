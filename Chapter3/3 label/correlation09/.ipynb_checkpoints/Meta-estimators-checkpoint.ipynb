{
 "cells": [
  {
   "cell_type": "code",
   "execution_count": 10,
   "id": "0eaa5868-b315-42af-98bf-0df9aaecfc36",
   "metadata": {},
   "outputs": [],
   "source": [
    "import re\n",
    "\n",
    "import numpy as np\n",
    "import pandas as pd\n",
    "from numpy import sort\n",
    "from scipy.cluster import hierarchy\n",
    "from scipy.stats import spearmanr\n",
    "\n",
    "regex = re.compile(r\"\\[|\\]|<\", re.IGNORECASE)\n",
    "\n",
    "import seaborn as sns\n",
    "import shap\n",
    "import statsmodels.api as sm\n",
    "\n",
    "%matplotlib inline\n",
    "%config InlineBackend.figure_format ='retina'\n",
    "import statsmodels.stats.api as sms\n",
    "import xgboost\n",
    "from BorutaShap import BorutaShap\n",
    "from sklearn import datasets, metrics, model_selection, preprocessing\n",
    "from sklearn.ensemble import (\n",
    "    BaggingClassifier,\n",
    "    ExtraTreesClassifier,\n",
    "    GradientBoostingClassifier,\n",
    "    RandomForestClassifier,\n",
    "    StackingClassifier,\n",
    "    VotingClassifier,\n",
    ")\n",
    "from sklearn.svm import SVC\n",
    "from sklearn.linear_model import LogisticRegression\n",
    "from sklearn.metrics import *\n",
    "import lightgbm\n",
    "from catboost import CatBoostClassifier\n",
    "from lightgbm import LGBMClassifier\n",
    "from sklearn.linear_model import ElasticNet, Lasso, LinearRegression\n",
    "from sklearn.metrics import (\n",
    "    explained_variance_score,\n",
    "    max_error,\n",
    "    mean_absolute_error,\n",
    "    mean_squared_error,\n",
    "    r2_score,\n",
    ")\n",
    "from sklearn.model_selection import (\n",
    "    GridSearchCV,\n",
    "    KFold,\n",
    "    RandomizedSearchCV,\n",
    "    StratifiedKFold,\n",
    "    RepeatedKFold,\n",
    "    cross_val_predict,\n",
    "    cross_val_score,\n",
    "    cross_validate,\n",
    "    learning_curve,\n",
    "    train_test_split,\n",
    "    validation_curve,\n",
    ")\n",
    "from sklearn.neighbors import KNeighborsClassifier\n",
    "from sklearn.preprocessing import MinMaxScaler\n",
    "from sklearn.tree import DecisionTreeClassifier\n",
    "from skopt import BayesSearchCV\n",
    "from skopt.plots import plot_convergence\n",
    "\n",
    "sns.set_style(\"darkgrid\")\n",
    "sns.mpl.rcParams[\"figure.figsize\"] = (15.0, 9.0)\n",
    "\n",
    "import warnings\n",
    "\n",
    "import matplotlib\n",
    "import matplotlib.pyplot as plt\n",
    "\n",
    "warnings.simplefilter(action=\"ignore\", category=FutureWarning)\n",
    "from warnings import filterwarnings\n",
    "\n",
    "filterwarnings(\"ignore\")\n",
    "\n",
    "seed = 0"
   ]
  },
  {
   "cell_type": "code",
   "execution_count": 2,
   "id": "ca37a895-7fd1-4e48-86bb-23a209af0cef",
   "metadata": {},
   "outputs": [],
   "source": [
    "data = pd.read_csv(\"training_cleaned.csv\", header=0, sep=\",\")\n",
    "\n",
    "data[\"BPlabel_encoded\"] = data[\"BPlabel\"].map(\n",
    "    {\"most likely\": 1, \"probable\": 2, \"least likely\": 3}\n",
    ")\n",
    "Y = data[\"BPlabel_encoded\"]\n",
    "data = data.drop([\"BPlabel\"], 1)"
   ]
  },
  {
   "cell_type": "code",
   "execution_count": 3,
   "id": "8eae62e6-142a-428e-b1c5-f223cd068fea",
   "metadata": {},
   "outputs": [],
   "source": [
    "X = pd.read_csv(\"selected_features_training_data.csv\", header=0)\n",
    "X.columns = [\n",
    "    regex.sub(\"_\", col) if any(x in str(col) for x in set((\"[\", \"]\", \"<\"))) else col\n",
    "    for col in X.columns.values\n",
    "]"
   ]
  },
  {
   "cell_type": "code",
   "execution_count": 4,
   "id": "8c69a8ec-05ac-4ac7-a60c-0ebaa0c4188d",
   "metadata": {},
   "outputs": [],
   "source": [
    "X_train, X_test, Y_train, Y_test = train_test_split(\n",
    "    X, Y, test_size=0.2, random_state=seed\n",
    ")"
   ]
  },
  {
   "cell_type": "code",
   "execution_count": 5,
   "id": "e8e791c0-e854-477d-9e9c-edff7bce7c95",
   "metadata": {},
   "outputs": [],
   "source": [
    "xgb =  xgboost.XGBClassifier(learning_rate=0.2, n_estimators=49, max_depth=4, random_state=0, reg_alpha=1, reg_lambda=1, eval_metric='mlogloss')\n",
    "\n",
    "lgbm =  LGBMClassifier(learning_rate=0.038035006480658606, max_depth=3, n_estimators=45,\n",
    "               random_state=0, reg_alpha=1, reg_lambda=1)\n",
    "\n",
    "cb = CatBoostClassifier(depth=4, iterations=50, learning_rate=0.1400545927979144, random_seed=seed, verbose=False)\n",
    "                       \n",
    "gbm = GradientBoostingClassifier(learning_rate=0.1281808322184159, max_depth=4, criterion='mse',\n",
    "                          max_features='sqrt', n_estimators=36, random_state=seed)\n",
    "                       \n",
    "rf =  RandomForestClassifier(max_depth=3, max_features='log2', n_estimators=50,\n",
    "                       random_state=0)\n",
    "\n",
    "dt = DecisionTreeClassifier(max_depth=4, max_features='sqrt', random_state=0)\n",
    "\n",
    "et = ExtraTreesClassifier(criterion='entropy', max_depth=4, max_features='log2',\n",
    "                     n_estimators=35, random_state=0)\n",
    "\n",
    "knn = KNeighborsClassifier(n_neighbors=7)\n",
    "\n",
    "svc = SVC(C=293.53707592157997)\n",
    "\n",
    "lr = LogisticRegression(C=0.5, max_iter=2500, random_state=0, solver='liblinear')\n",
    "\n",
    "results = []\n",
    "names = []\n",
    "scoring = ['accuracy', 'balanced_accuracy', 'f1_weighted', \n",
    "          'precision_weighted','recall_weighted']\n",
    "\n",
    "inner_cv = StratifiedKFold(n_splits=10, shuffle=True, random_state=seed)\n",
    "outer_cv = StratifiedKFold(n_splits=10, shuffle=True, random_state=seed)"
   ]
  },
  {
   "cell_type": "code",
   "execution_count": 6,
   "id": "7c6b1142-fa41-46ef-a672-2a145f61d4c8",
   "metadata": {},
   "outputs": [
    {
     "name": "stdout",
     "output_type": "stream",
     "text": [
      "Stacking CV results for all scores: {'fit_time': array([1.94617128, 1.74862695, 1.77864289, 1.79806399, 1.78339314,\n",
      "       1.79791689, 1.7261939 , 1.98247504, 1.86981392, 1.7487731 ]), 'score_time': array([0.02770472, 0.03203082, 0.02699804, 0.03013301, 0.02835011,\n",
      "       0.02613306, 0.02711916, 0.02672791, 0.02885413, 0.02848268]), 'test_accuracy': array([0.76666667, 0.73333333, 0.8       , 0.72413793, 0.72413793,\n",
      "       0.72413793, 0.68965517, 0.72413793, 0.68965517, 0.82758621]), 'test_balanced_accuracy': array([0.64814815, 0.6       , 0.63333333, 0.5952381 , 0.64444444,\n",
      "       0.64444444, 0.59259259, 0.64444444, 0.56296296, 0.66666667]), 'test_f1_weighted': array([0.72504826, 0.69625508, 0.73245614, 0.653587  , 0.6907001 ,\n",
      "       0.70172414, 0.67485709, 0.70172414, 0.63751856, 0.75040034]), 'test_precision_weighted': array([0.84090909, 0.79329004, 0.69047619, 0.60032841, 0.76657825,\n",
      "       0.6907001 , 0.67385057, 0.6907001 , 0.59310345, 0.6876588 ]), 'test_recall_weighted': array([0.76666667, 0.73333333, 0.8       , 0.72413793, 0.72413793,\n",
      "       0.72413793, 0.68965517, 0.72413793, 0.68965517, 0.82758621])}\n",
      "Accuracy CV Average 0.7241379310344828\n",
      "Balanced Accuracy CV Average 0.6388888888888888\n",
      "F1 CV Average 0.6989896082695272\n",
      "Precision CV Average 0.6905881474846992\n",
      "Recall CV Average 0.7241379310344828\n"
     ]
    }
   ],
   "source": [
    "estimators = [\n",
    "    (\"XGBR\", xgb),\n",
    "    (\"GBR\", gbm),\n",
    "    (\"RFR\", rf),\n",
    "    (\"LGBM\", lgbm),\n",
    "    (\"CB\", cb),\n",
    "    (\"ET\", et),\n",
    "    (\"DT\", dt),\n",
    "    (\"KNN\", knn),\n",
    "    (\"SVM\", svc),\n",
    "    (\"LR\", lr),\n",
    "\n",
    "]\n",
    "\n",
    "stacker = StackingClassifier(\n",
    "    estimators=estimators,\n",
    "    final_estimator= CatBoostClassifier(depth=4, iterations=50, learning_rate=0.1400545927979144, random_seed=seed, verbose=False)\n",
    ")\n",
    "cv_results = model_selection.cross_validate(\n",
    "        stacker, X, Y, cv=outer_cv, scoring=scoring\n",
    ")\n",
    "print(\"Stacking CV results for all scores:\", cv_results)\n",
    "print('Accuracy CV Average', np.median(cv_results['test_accuracy']))\n",
    "print('Balanced Accuracy CV Average', np.median(cv_results['test_balanced_accuracy'] ))\n",
    "print('F1 CV Average', np.median(cv_results['test_f1_weighted'] ))\n",
    "print('Precision CV Average', np.median(cv_results['test_precision_weighted'] ))\n",
    "print('Recall CV Average', np.median(cv_results['test_recall_weighted'] ))\n"
   ]
  },
  {
   "cell_type": "code",
   "execution_count": 7,
   "id": "bbb5ab3e-d099-4ee3-a9bb-38ca590b36f1",
   "metadata": {},
   "outputs": [
    {
     "name": "stdout",
     "output_type": "stream",
     "text": [
      "Bagging Classifier CV results for all scores: \n",
      " {'fit_time': array([2.06861997, 0.10271096, 0.0917201 , 0.09286308, 0.10095525,\n",
      "       0.09271884, 0.08946514, 0.08996797, 0.09125805, 0.09165788]), 'score_time': array([0.02079105, 0.01474595, 0.01579785, 0.02039599, 0.01656079,\n",
      "       0.01457405, 0.01393199, 0.0147841 , 0.01440692, 0.01490211]), 'test_accuracy': array([0.73333333, 0.73333333, 0.76666667, 0.79310345, 0.79310345,\n",
      "       0.72413793, 0.68965517, 0.75862069, 0.79310345, 0.82758621]), 'test_balanced_accuracy': array([0.67407407, 0.62222222, 0.61111111, 0.68571429, 0.68888889,\n",
      "       0.67407407, 0.57777778, 0.62222222, 0.67407407, 0.71111111]), 'test_f1_weighted': array([0.72166667, 0.71630781, 0.7       , 0.75684572, 0.75704023,\n",
      "       0.71728171, 0.66625616, 0.71786834, 0.76731382, 0.79066688]), 'test_precision_weighted': array([0.71960784, 0.71296296, 0.65      , 0.82387268, 0.82186981,\n",
      "       0.7137931 , 0.68842365, 0.68390805, 0.77767695, 0.85775862]), 'test_recall_weighted': array([0.73333333, 0.73333333, 0.76666667, 0.79310345, 0.79310345,\n",
      "       0.72413793, 0.68965517, 0.75862069, 0.79310345, 0.82758621])} \n",
      "\n",
      "Bagging Accuracy CV Average 0.7626436781609196\n",
      "Bagging Balanced Accuracy CV Average 0.674074074074074\n",
      "Bagging F1 CV Average 0.7197675026123302\n",
      "Bagging Precision CV Average 0.7167004732927653\n",
      "Bagging Recall CV Average 0.7626436781609196\n"
     ]
    }
   ],
   "source": [
    "bagging_cb = BaggingClassifier(base_estimator=cb, n_estimators=10, oob_score=True, random_state=seed, n_jobs=-1)\n",
    "\n",
    "cv_results = model_selection.cross_validate(bagging_cb, X , Y, cv=outer_cv, scoring=scoring, error_score=\"raise\")\n",
    "print('Bagging Classifier CV results for all scores:', '\\n', cv_results, '\\n')\n",
    "print('Bagging Accuracy CV Average', np.median(cv_results['test_accuracy']))\n",
    "print('Bagging Balanced Accuracy CV Average', np.median(cv_results['test_balanced_accuracy'] ))\n",
    "print('Bagging F1 CV Average', np.median(cv_results['test_f1_weighted'] ))\n",
    "print('Bagging Precision CV Average', np.median(cv_results['test_precision_weighted'] ))\n",
    "print('Bagging Recall CV Average', np.median(cv_results['test_recall_weighted'] ))\n"
   ]
  },
  {
   "cell_type": "code",
   "execution_count": 8,
   "id": "340c998e-0135-4bbd-b33c-e084e96f3d5a",
   "metadata": {},
   "outputs": [
    {
     "name": "stdout",
     "output_type": "stream",
     "text": [
      "Voting CV results for all scores {'fit_time': array([0.28574324, 0.28074217, 0.2882719 , 0.31050992, 0.33951497,\n",
      "       0.33150816, 0.30249882, 0.31926131, 0.28318   , 0.30078006]), 'score_time': array([0.02752995, 0.02706313, 0.02568102, 0.03376102, 0.03119493,\n",
      "       0.02898026, 0.03142118, 0.0269351 , 0.02729607, 0.02639604]), 'test_accuracy': array([0.66666667, 0.7       , 0.8       , 0.75862069, 0.72413793,\n",
      "       0.72413793, 0.68965517, 0.72413793, 0.75862069, 0.82758621]), 'test_balanced_accuracy': array([0.56666667, 0.53333333, 0.63333333, 0.65238095, 0.58518519,\n",
      "       0.62962963, 0.57777778, 0.6       , 0.60740741, 0.66666667]), 'test_f1_weighted': array([0.64555556, 0.63003096, 0.73245614, 0.72580982, 0.65688054,\n",
      "       0.69853513, 0.66625616, 0.68194192, 0.70588235, 0.74952978]), 'test_precision_weighted': array([0.67619048, 0.61180124, 0.69047619, 0.79310345, 0.60217786,\n",
      "       0.69959432, 0.68842365, 0.64442191, 0.67241379, 0.68495298]), 'test_recall_weighted': array([0.66666667, 0.7       , 0.8       , 0.75862069, 0.72413793,\n",
      "       0.72413793, 0.68965517, 0.72413793, 0.75862069, 0.82758621])}\n",
      "Accuracy CV Average 0.7241379310344828\n",
      "Balanced Accuracy CV Average 0.6037037037037036\n",
      "F1 CV Average 0.6902385273528651\n",
      "Precision CV Average 0.6805717271234513\n",
      "Recall CV Average 0.7241379310344828\n"
     ]
    }
   ],
   "source": [
    "model1 = xgb.fit(X_train, Y_train)\n",
    "model2 = gbm.fit(X_train, Y_train)\n",
    "model3 = lgbm.fit(X_train, Y_train)\n",
    "model4 = cb.fit(X_train, Y_train) #output predictions are not in the same dimensions as all others so needed to be removed (voting classifier error otherwise)\n",
    "model5 = rf.fit(X_train, Y_train)\n",
    "model6 = et.fit(X_train, Y_train)\n",
    "model7 = dt.fit(X_train, Y_train)\n",
    "model8 = knn.fit(X_train, Y_train)\n",
    "model9 = svc.fit(X_train, Y_train)\n",
    "model10 = lr.fit(X_train, Y_train)\n",
    "\n",
    "\n",
    "vote = VotingClassifier([(\"xgbr\", model1), (\"gbr\", model2), (\"lgbm\", model3),\n",
    "                      (\"rf\", model5), (\"et\", model6),\n",
    "                       (\"dt\", model7), (\"knn\", model8), (\"svm\", model9),\n",
    "                       (\"lr\", model10)], voting='hard')\n",
    "\n",
    "cv_results = model_selection.cross_validate(vote, X, Y, cv=outer_cv, scoring=scoring, error_score=\"raise\")\n",
    "\n",
    "print(\"Voting CV results for all scores\", cv_results)\n",
    "print('Accuracy CV Average', np.median(cv_results['test_accuracy']))\n",
    "print('Balanced Accuracy CV Average', np.median(cv_results['test_balanced_accuracy']))\n",
    "print('F1 CV Average', np.median(cv_results['test_f1_weighted'] ))\n",
    "print('Precision CV Average', np.median(cv_results['test_precision_weighted']))\n",
    "print('Recall CV Average', np.median(cv_results['test_recall_weighted']))\n"
   ]
  },
  {
   "cell_type": "code",
   "execution_count": 12,
   "id": "40d3480e-edb3-460a-9dc8-f6eed8b9c300",
   "metadata": {},
   "outputs": [
    {
     "name": "stdout",
     "output_type": "stream",
     "text": [
      "              precision    recall  f1-score   support\n",
      "\n",
      " Most likely       0.00      0.00      0.00         7\n",
      "    Probable       0.67      0.75      0.71        32\n",
      "Least likely       0.94      0.75      0.83        20\n",
      "\n",
      "    accuracy                           0.66        59\n",
      "   macro avg       0.53      0.50      0.51        59\n",
      "weighted avg       0.68      0.66      0.67        59\n",
      "\n"
     ]
    }
   ],
   "source": [
    "target_names = ['Most likely', 'Probable', 'Least likely']\n",
    "stacker.fit(X_train, Y_train)\n",
    "predictions = list(stacker.predict(X_test))\n",
    "print(classification_report(Y_test, predictions, target_names=target_names))"
   ]
  },
  {
   "cell_type": "code",
   "execution_count": 13,
   "id": "98867556-fbd1-4015-a116-0e64b80451e9",
   "metadata": {},
   "outputs": [
    {
     "name": "stdout",
     "output_type": "stream",
     "text": [
      "              precision    recall  f1-score   support\n",
      "\n",
      " Most likely       0.00      0.00      0.00         7\n",
      "    Probable       0.69      0.91      0.78        32\n",
      "Least likely       1.00      0.70      0.82        20\n",
      "\n",
      "    accuracy                           0.73        59\n",
      "   macro avg       0.56      0.54      0.54        59\n",
      "weighted avg       0.71      0.73      0.70        59\n",
      "\n"
     ]
    }
   ],
   "source": [
    "target_names = ['Most likely', 'Probable', 'Least likely']\n",
    "vote.fit(X_train, Y_train)\n",
    "predictions = list(vote.predict(X_test))\n",
    "print(classification_report(Y_test, predictions, target_names=target_names))"
   ]
  },
  {
   "cell_type": "code",
   "execution_count": 15,
   "id": "c2768c65-c3f7-4265-ae6e-75ef3e145d7d",
   "metadata": {},
   "outputs": [
    {
     "name": "stdout",
     "output_type": "stream",
     "text": [
      "              precision    recall  f1-score   support\n",
      "\n",
      " Most likely       0.00      0.00      0.00         7\n",
      "    Probable       0.71      0.84      0.77        32\n",
      "Least likely       1.00      0.80      0.89        20\n",
      "\n",
      "    accuracy                           0.73        59\n",
      "   macro avg       0.57      0.55      0.55        59\n",
      "weighted avg       0.72      0.73      0.72        59\n",
      "\n"
     ]
    }
   ],
   "source": [
    "target_names = ['Most likely', 'Probable', 'Least likely']\n",
    "bagging_cb.fit(X_train, Y_train)\n",
    "predictions = list(bagging_cb.predict(X_test))\n",
    "print(classification_report(Y_test, predictions, target_names=target_names))"
   ]
  },
  {
   "cell_type": "code",
   "execution_count": null,
   "id": "ffc951f7-a0db-451d-b61d-4f2e10c46b68",
   "metadata": {},
   "outputs": [],
   "source": []
  }
 ],
 "metadata": {
  "kernelspec": {
   "display_name": "Python 3",
   "language": "python",
   "name": "python3"
  },
  "language_info": {
   "codemirror_mode": {
    "name": "ipython",
    "version": 3
   },
   "file_extension": ".py",
   "mimetype": "text/x-python",
   "name": "python",
   "nbconvert_exporter": "python",
   "pygments_lexer": "ipython3",
   "version": "3.8.12"
  },
  "widgets": {
   "application/vnd.jupyter.widget-state+json": {
    "state": {},
    "version_major": 2,
    "version_minor": 0
   }
  }
 },
 "nbformat": 4,
 "nbformat_minor": 5
}
