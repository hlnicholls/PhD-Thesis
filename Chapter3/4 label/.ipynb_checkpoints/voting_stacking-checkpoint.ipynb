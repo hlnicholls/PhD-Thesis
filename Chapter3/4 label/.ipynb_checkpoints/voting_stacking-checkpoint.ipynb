{
 "cells": [
  {
   "cell_type": "markdown",
   "metadata": {},
   "source": [
    "# __Machine Learning for Prioritizing Blood Pressure Genes__ "
   ]
  },
  {
   "cell_type": "markdown",
   "metadata": {},
   "source": [
    "## Import modules:"
   ]
  },
  {
   "cell_type": "code",
   "execution_count": 1,
   "metadata": {},
   "outputs": [],
   "source": [
    "import re\n",
    "\n",
    "import numpy as np\n",
    "import pandas as pd\n",
    "from numpy import sort\n",
    "from scipy.cluster import hierarchy\n",
    "from scipy.stats import spearmanr\n",
    "\n",
    "regex = re.compile(r\"\\[|\\]|<\", re.IGNORECASE)\n",
    "\n",
    "import seaborn as sns\n",
    "import shap\n",
    "import statsmodels.api as sm\n",
    "\n",
    "%matplotlib inline\n",
    "%config InlineBackend.figure_format ='retina'\n",
    "import statsmodels.stats.api as sms\n",
    "import xgboost\n",
    "from sklearn import datasets, metrics, model_selection, preprocessing\n",
    "from sklearn.ensemble import (\n",
    "    BaggingClassifier,\n",
    "    ExtraTreesClassifier,\n",
    "    GradientBoostingClassifier,\n",
    "    RandomForestClassifier,\n",
    "    StackingClassifier,\n",
    "    VotingClassifier,\n",
    ")\n",
    "from sklearn.linear_model import ElasticNet, Lasso, LinearRegression\n",
    "from sklearn.metrics import *\n",
    "from sklearn.model_selection import (\n",
    "    GridSearchCV,\n",
    "    KFold,\n",
    "    RandomizedSearchCV,\n",
    "    RepeatedKFold,\n",
    "    cross_val_predict,\n",
    "    cross_val_score,\n",
    "    cross_validate,\n",
    "    learning_curve,\n",
    "    train_test_split,\n",
    "    validation_curve,\n",
    ")\n",
    "from sklearn.neighbors import KNeighborsClassifier\n",
    "from sklearn.preprocessing import MinMaxScaler\n",
    "from sklearn.svm import SVR\n",
    "from sklearn.tree import DecisionTreeClassifier\n",
    "from skopt import BayesSearchCV\n",
    "from skopt.plots import plot_convergence\n",
    "\n",
    "sns.set_style(\"darkgrid\")\n",
    "sns.mpl.rcParams[\"figure.figsize\"] = (15.0, 9.0)\n",
    "\n",
    "import warnings\n",
    "\n",
    "import matplotlib\n",
    "import matplotlib.pyplot as plt\n",
    "\n",
    "warnings.simplefilter(action=\"ignore\", category=FutureWarning)\n",
    "from warnings import filterwarnings\n",
    "warnings.filterwarnings('ignore')\n",
    "\n",
    "filterwarnings(\"ignore\")\n",
    "\n",
    "seed = 0"
   ]
  },
  {
   "cell_type": "markdown",
   "metadata": {},
   "source": [
    "# Load data:"
   ]
  },
  {
   "cell_type": "code",
   "execution_count": 2,
   "metadata": {},
   "outputs": [],
   "source": [
    "data = pd.read_csv(\"2021-11-19_training_cleaned.csv\", header=0, sep=\",\")"
   ]
  },
  {
   "cell_type": "code",
   "execution_count": 3,
   "metadata": {},
   "outputs": [
    {
     "data": {
      "text/plain": [
       "(327, 109)"
      ]
     },
     "execution_count": 3,
     "metadata": {},
     "output_type": "execute_result"
    }
   ],
   "source": [
    "data[\"BPlabel_encoded\"] = data[\"BPlabel\"].map(\n",
    "    {\"most likely\": 1, \"probable\": 2,  \"possible\": 3, \"least likely\": 4}\n",
    ")\n",
    "Y = data[\"BPlabel_encoded\"]\n",
    "data = data.drop([\"BPlabel\"], 1)\n",
    "data.shape  # Data has IPA and ensembl features without possible label"
   ]
  },
  {
   "cell_type": "code",
   "execution_count": 4,
   "metadata": {},
   "outputs": [],
   "source": [
    "X = pd.read_csv(\"2021-11-19_imputed_training_data.csv\", header=0)\n",
    "X.columns = [\n",
    "    regex.sub(\"_\", col) if any(x in str(col) for x in set((\"[\", \"]\", \"<\"))) else col\n",
    "    for col in X.columns.values\n",
    "]"
   ]
  },
  {
   "cell_type": "code",
   "execution_count": 5,
   "metadata": {},
   "outputs": [],
   "source": [
    "X_train, X_test, Y_train, Y_test = train_test_split(\n",
    "    X, Y, test_size=0.2, random_state=seed\n",
    ")"
   ]
  },
  {
   "cell_type": "markdown",
   "metadata": {},
   "source": [
    "# Building Models:\n",
    "- Parameter tuning with Bayesian optimization over hyper parameters"
   ]
  },
  {
   "cell_type": "code",
   "execution_count": 6,
   "metadata": {},
   "outputs": [],
   "source": [
    "xgb = xgboost.XGBClassifier(random_state=seed, objective=\"reg:squarederror\")\n",
    "xgb_params = {\n",
    "    \"max_depth\": (\n",
    "        1,\n",
    "        4,\n",
    "    ),  \n",
    "    \"learning_rate\": (\n",
    "        0.01,\n",
    "        0.5,\n",
    "        \"log-uniform\",\n",
    "    ), \n",
    "    \"n_estimators\": (\n",
    "        10,\n",
    "        50,\n",
    "    ), \n",
    "    \"reg_alpha\": (\n",
    "        1,\n",
    "        10,\n",
    "        \"log-uniform\",\n",
    "    ), \n",
    "    \"reg_lambda\": (1, 10, \"log-uniform\"),\n",
    "} \n",
    "\n",
    "gb = GradientBoostingClassifier(random_state=seed)\n",
    "gb_params = {\n",
    "    \"learning_rate\": (0.01, 0.5),\n",
    "    \"max_depth\": (1, 4),\n",
    "    \"max_features\": [\"log2\", \"sqrt\", \"auto\"],\n",
    "    \"criterion\": [\"friedman_mse\", \"mse\", \"mae\"],\n",
    "    \"n_estimators\": (10, 50),\n",
    "}\n",
    "\n",
    "rf = RandomForestClassifier(random_state=seed)\n",
    "rf_params = {\n",
    "    \"n_estimators\": (10, 50),\n",
    "    \"max_features\": [\"auto\", \"sqrt\", \"log2\"],\n",
    "    \"max_depth\": (1, 4),\n",
    "    \"criterion\": [\"mse\", \"mae\"],\n",
    "}\n",
    "\n",
    "\n",
    "inner_cv = KFold(n_splits=5, shuffle=True, random_state=seed)\n",
    "outer_cv = KFold(n_splits=5, shuffle=True, random_state=seed)\n",
    "\n",
    "models = []\n",
    "\n",
    "models.append((\"XGBR\", BayesSearchCV(xgb, xgb_params, cv=inner_cv, iid=False, n_jobs=1)))\n",
    "models.append((\"GBR\", BayesSearchCV(gb, gb_params, cv=inner_cv, iid=False, n_jobs=1)))\n",
    "models.append((\"RFR\", BayesSearchCV(rf, rf_params, cv=inner_cv, iid=False, n_jobs=1)))\n",
    "\n",
    "results = []\n",
    "results1 = []\n",
    "results2 = []\n",
    "results3 = []\n",
    "names = []\n",
    "names2 = []\n",
    "scoring = [\n",
    "'accuracy', 'balanced_accuracy', 'f1_weighted', \n",
    "          'precision_weighted','recall_weighted'\n",
    "]  # https://scikit-learn.org/stable/modules/model_evaluation.html"
   ]
  },
  {
   "cell_type": "markdown",
   "metadata": {},
   "source": [
    "## Model benchmarking - BorutaShap feature selection"
   ]
  },
  {
   "cell_type": "code",
   "execution_count": 7,
   "metadata": {},
   "outputs": [],
   "source": [
    "X_boruta_sel = pd.read_csv(\"2021-11-19_selected_features_training_data.csv\", header=0)\n",
    "X_boruta_sel.columns = [\n",
    "    regex.sub(\"_\", col) if any(x in str(col) for x in set((\"[\", \"]\", \"<\"))) else col\n",
    "    for col in X_boruta_sel.columns.values\n",
    "]"
   ]
  },
  {
   "cell_type": "code",
   "execution_count": 8,
   "metadata": {},
   "outputs": [],
   "source": [
    "X_train_boruta, X_test_boruta, Y_train_boruta, Y_test_boruta = train_test_split(\n",
    "    X_boruta_sel, Y, test_size=0.2, random_state=0\n",
    ")"
   ]
  },
  {
   "cell_type": "markdown",
   "metadata": {},
   "source": [
    "## Stacking Classifier:"
   ]
  },
  {
   "cell_type": "code",
   "execution_count": 9,
   "metadata": {},
   "outputs": [
    {
     "name": "stdout",
     "output_type": "stream",
     "text": [
      "Stacking balanced_accuracy CV {'fit_time': array([1.0992403 , 0.99884176, 1.04414797, 1.18941212, 1.02954102]), 'score_time': array([0.01082182, 0.01050997, 0.01213479, 0.0109818 , 0.01102901]), 'test_accuracy': array([0.62121212, 0.51515152, 0.56923077, 0.50769231, 0.43076923]), 'test_balanced_accuracy': array([0.61383929, 0.51072214, 0.51691595, 0.47513736, 0.43642241]), 'test_f1_weighted': array([0.59935666, 0.49800973, 0.56092622, 0.48400138, 0.40475627]), 'test_precision_weighted': array([0.61370523, 0.49147443, 0.59098901, 0.49731192, 0.40356473]), 'test_recall_weighted': array([0.62121212, 0.51515152, 0.56923077, 0.50769231, 0.43076923])}\n",
      " CV results for all scores: \n",
      " {'fit_time': array([1.0992403 , 0.99884176, 1.04414797, 1.18941212, 1.02954102]), 'score_time': array([0.01082182, 0.01050997, 0.01213479, 0.0109818 , 0.01102901]), 'test_accuracy': array([0.62121212, 0.51515152, 0.56923077, 0.50769231, 0.43076923]), 'test_balanced_accuracy': array([0.61383929, 0.51072214, 0.51691595, 0.47513736, 0.43642241]), 'test_f1_weighted': array([0.59935666, 0.49800973, 0.56092622, 0.48400138, 0.40475627]), 'test_precision_weighted': array([0.61370523, 0.49147443, 0.59098901, 0.49731192, 0.40356473]), 'test_recall_weighted': array([0.62121212, 0.51515152, 0.56923077, 0.50769231, 0.43076923])} \n",
      "\n",
      "balanced_accuracy  CV Average 0.5106074314646338\n",
      " CV results for all scores: \n",
      " {'fit_time': array([1.0992403 , 0.99884176, 1.04414797, 1.18941212, 1.02954102]), 'score_time': array([0.01082182, 0.01050997, 0.01213479, 0.0109818 , 0.01102901]), 'test_accuracy': array([0.62121212, 0.51515152, 0.56923077, 0.50769231, 0.43076923]), 'test_balanced_accuracy': array([0.61383929, 0.51072214, 0.51691595, 0.47513736, 0.43642241]), 'test_f1_weighted': array([0.59935666, 0.49800973, 0.56092622, 0.48400138, 0.40475627]), 'test_precision_weighted': array([0.61370523, 0.49147443, 0.59098901, 0.49731192, 0.40356473]), 'test_recall_weighted': array([0.62121212, 0.51515152, 0.56923077, 0.50769231, 0.43076923])} \n",
      "\n",
      "Accuracy  CV Average 0.5288111888111888\n",
      "Balanced Accuracy  CV Average 0.5106074314646338\n",
      "F1  CV Average 0.5094100533642658\n",
      "Precision  CV Average 0.5194090641857144\n",
      "Recall  CV Average 0.5288111888111888\n",
      "\n",
      "\n",
      "balanced_accuracy  CV Median 0.5107221407624634\n",
      " CV results for all scores: \n",
      " {'fit_time': array([1.0992403 , 0.99884176, 1.04414797, 1.18941212, 1.02954102]), 'score_time': array([0.01082182, 0.01050997, 0.01213479, 0.0109818 , 0.01102901]), 'test_accuracy': array([0.62121212, 0.51515152, 0.56923077, 0.50769231, 0.43076923]), 'test_balanced_accuracy': array([0.61383929, 0.51072214, 0.51691595, 0.47513736, 0.43642241]), 'test_f1_weighted': array([0.59935666, 0.49800973, 0.56092622, 0.48400138, 0.40475627]), 'test_precision_weighted': array([0.61370523, 0.49147443, 0.59098901, 0.49731192, 0.40356473]), 'test_recall_weighted': array([0.62121212, 0.51515152, 0.56923077, 0.50769231, 0.43076923])} \n",
      "\n",
      "Accuracy  CV Median 0.5151515151515151\n",
      "Balanced Accuracy  CV Median 0.5107221407624634\n",
      "F1  CV Median 0.49800973020787254\n",
      "Precision  CV Median 0.4973119188503804\n",
      "Recall  CV Median 0.5151515151515151\n",
      "Stacking Test balanced_accuracy: 0.453125\n",
      "Stacking Test F1: 0.4757249918540241\n",
      "Stacking Test Precision: 0.46040843214756255\n",
      "Stacking Test Recall: 0.5303030303030303\n",
      "Stacking Test Balanced Accuracy: 0.453125\n"
     ]
    }
   ],
   "source": [
    "estimators = [\n",
    "    (\n",
    "        \"XGBR\",\n",
    "        xgboost.XGBClassifier(num_class=3, objective='multi:softmax', eval_metric='mlogloss',\n",
    "            n_estimators=49,\n",
    "            learning_rate=0.4885189317071115,\n",
    "            max_depth=3,\n",
    "            reg_alpha=3,\n",
    "            reg_lambda=7,\n",
    "            random_state=seed\n",
    "        ),\n",
    "    ),    \n",
    "    (\n",
    "        \"GBR\",\n",
    "        GradientBoostingClassifier(\n",
    "            random_state=seed,\n",
    "            learning_rate=0.260757764244599,\n",
    "            max_depth=2,\n",
    "            max_features=\"sqrt\",\n",
    "            criterion=\"mae\",\n",
    "            n_estimators=21,\n",
    "        ),\n",
    "    ),\n",
    "    (\n",
    "        \"RFR\",\n",
    "        RandomForestClassifier(\n",
    "            random_state=seed,\n",
    "            criterion=\"entropy\",\n",
    "            max_depth=3,\n",
    "            max_features=\"auto\",\n",
    "            n_estimators=27,\n",
    "        ),\n",
    "    ), \n",
    "]  \n",
    "\n",
    "stacker = StackingClassifier(\n",
    "    estimators=estimators,\n",
    "    final_estimator=xgboost.XGBClassifier(num_class=3, objective='multi:softmax', eval_metric='mlogloss',\n",
    "            n_estimators=49,\n",
    "            learning_rate=0.4885189317071115,\n",
    "            max_depth=3,\n",
    "            reg_alpha=3,\n",
    "            reg_lambda=7,\n",
    "        random_state=seed,\n",
    "    ),\n",
    ")\n",
    "cv_results = model_selection.cross_validate(\n",
    "        stacker, X_boruta_sel, Y, cv=outer_cv, scoring=scoring\n",
    ")\n",
    "print(\"Stacking balanced_accuracy CV\", cv_results)\n",
    "print( \" CV results for all scores:\", \"\\n\", cv_results, \"\\n\")\n",
    "print(\"balanced_accuracy  CV Average\", np.mean(cv_results[\"test_balanced_accuracy\"]))\n",
    "print(' CV results for all scores:', '\\n', cv_results, '\\n')\n",
    "print('Accuracy  CV Average', np.mean(cv_results['test_accuracy']))\n",
    "print('Balanced Accuracy  CV Average', np.mean(cv_results['test_balanced_accuracy'] ))\n",
    "print('F1  CV Average', np.mean(cv_results['test_f1_weighted'] ))\n",
    "print('Precision  CV Average', np.mean(cv_results['test_precision_weighted'] ))\n",
    "print('Recall  CV Average', np.mean(cv_results['test_recall_weighted'] ))\n",
    "print('\\n')\n",
    "print(\"balanced_accuracy  CV Median\", np.median(cv_results[\"test_balanced_accuracy\"]))\n",
    "print(' CV results for all scores:', '\\n', cv_results, '\\n')\n",
    "print('Accuracy  CV Median', np.median(cv_results['test_accuracy']))\n",
    "print('Balanced Accuracy  CV Median', np.median(cv_results['test_balanced_accuracy'] ))\n",
    "print('F1  CV Median', np.median(cv_results['test_f1_weighted'] ))\n",
    "print('Precision  CV Median', np.median(cv_results['test_precision_weighted'] ))\n",
    "print('Recall  CV Median', np.median(cv_results['test_recall_weighted'] ))\n",
    "stacker.fit(X_train_boruta, Y_train_boruta)\n",
    "\n",
    "y_pred = stacker.predict(X_test_boruta)\n",
    "print(\"Stacking Test balanced_accuracy:\", balanced_accuracy_score(Y_test_boruta, y_pred))\n",
    "print(\"Stacking Test F1:\", f1_score(Y_test_boruta, y_pred, average='weighted'))\n",
    "print(\n",
    "    \"Stacking Test Precision:\",\n",
    "    precision_score(Y_test_boruta, y_pred, average='weighted'),\n",
    ")\n",
    "print(\"Stacking Test Recall:\", recall_score(Y_test_boruta, y_pred, average='weighted'))\n",
    "print(\"Stacking Test Balanced Accuracy:\", balanced_accuracy_score(Y_test_boruta, y_pred))"
   ]
  },
  {
   "cell_type": "markdown",
   "metadata": {},
   "source": [
    "## Voting Classifier:"
   ]
  },
  {
   "cell_type": "code",
   "execution_count": 10,
   "metadata": {},
   "outputs": [
    {
     "name": "stdout",
     "output_type": "stream",
     "text": [
      "Voter balanced_accuracy CV {'fit_time': array([0.21752906, 0.21973491, 0.22000909, 0.22612691, 0.20982313]), 'score_time': array([0.01282573, 0.01066208, 0.01029992, 0.01008987, 0.01434803]), 'test_accuracy': array([0.65151515, 0.57575758, 0.55384615, 0.56923077, 0.52307692]), 'test_balanced_accuracy': array([0.57738095, 0.48387097, 0.43304843, 0.48942308, 0.4947147 ]), 'test_f1_weighted': array([0.56748918, 0.4846671 , 0.46904762, 0.48976024, 0.489357  ]), 'test_precision_weighted': array([0.67526224, 0.53507295, 0.53333333, 0.46119658, 0.53132664]), 'test_recall_weighted': array([0.65151515, 0.57575758, 0.55384615, 0.56923077, 0.52307692])}\n",
      " CV results for all scores: \n",
      " {'fit_time': array([0.21752906, 0.21973491, 0.22000909, 0.22612691, 0.20982313]), 'score_time': array([0.01282573, 0.01066208, 0.01029992, 0.01008987, 0.01434803]), 'test_accuracy': array([0.65151515, 0.57575758, 0.55384615, 0.56923077, 0.52307692]), 'test_balanced_accuracy': array([0.57738095, 0.48387097, 0.43304843, 0.48942308, 0.4947147 ]), 'test_f1_weighted': array([0.56748918, 0.4846671 , 0.46904762, 0.48976024, 0.489357  ]), 'test_precision_weighted': array([0.67526224, 0.53507295, 0.53333333, 0.46119658, 0.53132664]), 'test_recall_weighted': array([0.65151515, 0.57575758, 0.55384615, 0.56923077, 0.52307692])} \n",
      "\n",
      " CV results for all scores: \n",
      " {'fit_time': array([0.21752906, 0.21973491, 0.22000909, 0.22612691, 0.20982313]), 'score_time': array([0.01282573, 0.01066208, 0.01029992, 0.01008987, 0.01434803]), 'test_accuracy': array([0.65151515, 0.57575758, 0.55384615, 0.56923077, 0.52307692]), 'test_balanced_accuracy': array([0.57738095, 0.48387097, 0.43304843, 0.48942308, 0.4947147 ]), 'test_f1_weighted': array([0.56748918, 0.4846671 , 0.46904762, 0.48976024, 0.489357  ]), 'test_precision_weighted': array([0.67526224, 0.53507295, 0.53333333, 0.46119658, 0.53132664]), 'test_recall_weighted': array([0.65151515, 0.57575758, 0.55384615, 0.56923077, 0.52307692])} \n",
      "\n",
      "balanced_accuracy  CV Average 0.49568762526354293\n",
      " CV results for all scores: \n",
      " {'fit_time': array([0.21752906, 0.21973491, 0.22000909, 0.22612691, 0.20982313]), 'score_time': array([0.01282573, 0.01066208, 0.01029992, 0.01008987, 0.01434803]), 'test_accuracy': array([0.65151515, 0.57575758, 0.55384615, 0.56923077, 0.52307692]), 'test_balanced_accuracy': array([0.57738095, 0.48387097, 0.43304843, 0.48942308, 0.4947147 ]), 'test_f1_weighted': array([0.56748918, 0.4846671 , 0.46904762, 0.48976024, 0.489357  ]), 'test_precision_weighted': array([0.67526224, 0.53507295, 0.53333333, 0.46119658, 0.53132664]), 'test_recall_weighted': array([0.65151515, 0.57575758, 0.55384615, 0.56923077, 0.52307692])} \n",
      "\n",
      "Accuracy  CV Average 0.5746853146853146\n",
      "Balanced Accuracy  CV Average 0.49568762526354293\n",
      "F1  CV Average 0.5000642285501538\n",
      "Precision  CV Average 0.5472383496803787\n",
      "Recall  CV Average 0.5746853146853146\n",
      "\n",
      "\n",
      "balanced_accuracy  CV Median 0.48942307692307696\n",
      " CV results for all scores: \n",
      " {'fit_time': array([0.21752906, 0.21973491, 0.22000909, 0.22612691, 0.20982313]), 'score_time': array([0.01282573, 0.01066208, 0.01029992, 0.01008987, 0.01434803]), 'test_accuracy': array([0.65151515, 0.57575758, 0.55384615, 0.56923077, 0.52307692]), 'test_balanced_accuracy': array([0.57738095, 0.48387097, 0.43304843, 0.48942308, 0.4947147 ]), 'test_f1_weighted': array([0.56748918, 0.4846671 , 0.46904762, 0.48976024, 0.489357  ]), 'test_precision_weighted': array([0.67526224, 0.53507295, 0.53333333, 0.46119658, 0.53132664]), 'test_recall_weighted': array([0.65151515, 0.57575758, 0.55384615, 0.56923077, 0.52307692])} \n",
      "\n",
      "Accuracy  CV Median 0.5692307692307692\n",
      "Balanced Accuracy  CV Median 0.48942307692307696\n",
      "F1  CV Median 0.4893570019723865\n",
      "Precision  CV Median 0.5333333333333333\n",
      "Recall  CV Median 0.5692307692307692\n",
      "Stacking Test balanced_accuracy: 0.5535714285714286\n",
      "Stacking Test F1: 0.580946830946831\n",
      "Stacking Test Precision: 0.6892773892773892\n",
      "Stacking Test Recall: 0.6515151515151515\n",
      "Stacking Test Balanced Accuracy: 0.5535714285714286\n"
     ]
    }
   ],
   "source": [
    "model1 = xgboost.XGBClassifier(num_class=3, objective='multi:softmax', eval_metric='mlogloss',\n",
    "            n_estimators=49,\n",
    "            learning_rate=0.4885189317071115,\n",
    "            max_depth=3,\n",
    "            reg_alpha=3,\n",
    "            reg_lambda=7,\n",
    "            random_state=seed)\n",
    "\n",
    "model2 = GradientBoostingClassifier(\n",
    "            random_state=seed,\n",
    "            learning_rate=0.260757764244599,\n",
    "            max_depth=2,\n",
    "            max_features=\"sqrt\",\n",
    "            criterion=\"mae\",\n",
    "            n_estimators=21,\n",
    "        )\n",
    "model3 = RandomForestClassifier(\n",
    "            random_state=seed,\n",
    "            criterion=\"entropy\",\n",
    "            max_depth=3,\n",
    "            max_features=\"auto\",\n",
    "            n_estimators=27,\n",
    "        )\n",
    "\n",
    "model1 = model1.fit(X_train_boruta, Y_train_boruta)\n",
    "model2 = model2.fit(X_train_boruta, Y_train_boruta)\n",
    "model3 = model3.fit(X_train_boruta, Y_train_boruta)\n",
    "\n",
    "\n",
    "vote = VotingClassifier([(\"xgbr\", model1), (\"gbr\", model2), (\"rfr\", model3)])\n",
    "\n",
    "cv_results = model_selection.cross_validate(\n",
    "        vote, X_boruta_sel, Y, cv=outer_cv, scoring=scoring\n",
    ")\n",
    "print(\"Voter balanced_accuracy CV\", cv_results)\n",
    "print( \" CV results for all scores:\", \"\\n\", cv_results, \"\\n\")\n",
    "print( \" CV results for all scores:\", \"\\n\", cv_results, \"\\n\")\n",
    "print(\"balanced_accuracy  CV Average\", np.mean(cv_results[\"test_balanced_accuracy\"]))\n",
    "print(' CV results for all scores:', '\\n', cv_results, '\\n')\n",
    "print('Accuracy  CV Average', np.mean(cv_results['test_accuracy']))\n",
    "print('Balanced Accuracy  CV Average', np.mean(cv_results['test_balanced_accuracy'] ))\n",
    "print('F1  CV Average', np.mean(cv_results['test_f1_weighted'] ))\n",
    "print('Precision  CV Average', np.mean(cv_results['test_precision_weighted'] ))\n",
    "print('Recall  CV Average', np.mean(cv_results['test_recall_weighted'] ))\n",
    "print('\\n')\n",
    "print(\"balanced_accuracy  CV Median\", np.median(cv_results[\"test_balanced_accuracy\"]))\n",
    "print(' CV results for all scores:', '\\n', cv_results, '\\n')\n",
    "print('Accuracy  CV Median', np.median(cv_results['test_accuracy']))\n",
    "print('Balanced Accuracy  CV Median', np.median(cv_results['test_balanced_accuracy'] ))\n",
    "print('F1  CV Median', np.median(cv_results['test_f1_weighted'] ))\n",
    "print('Precision  CV Median', np.median(cv_results['test_precision_weighted'] ))\n",
    "print('Recall  CV Median', np.median(cv_results['test_recall_weighted'] ))\n",
    "\n",
    "vote.fit(X_train_boruta, Y_train_boruta)\n",
    "y_pred = vote.predict(X_test_boruta)\n",
    "print(\"Stacking Test balanced_accuracy:\", balanced_accuracy_score(Y_test_boruta, y_pred))\n",
    "print(\"Stacking Test F1:\", f1_score(Y_test_boruta, y_pred, average='weighted'))\n",
    "print(\n",
    "    \"Stacking Test Precision:\",\n",
    "    precision_score(Y_test_boruta, y_pred, average='weighted'),\n",
    ")\n",
    "print(\"Stacking Test Recall:\", recall_score(Y_test_boruta, y_pred, average='weighted'))\n",
    "print(\"Stacking Test Balanced Accuracy:\", balanced_accuracy_score(Y_test_boruta, y_pred))"
   ]
  },
  {
   "cell_type": "code",
   "execution_count": 11,
   "metadata": {},
   "outputs": [
    {
     "name": "stdout",
     "output_type": "stream",
     "text": [
      "              precision    recall  f1-score   support\n",
      "\n",
      " most likely       0.00      0.00      0.00         6\n",
      "    probable       0.57      0.81      0.67        32\n",
      "    possible       0.30      0.14      0.19        21\n",
      "least likely       0.86      0.86      0.86         7\n",
      "\n",
      "    accuracy                           0.53        66\n",
      "   macro avg       0.43      0.45      0.43        66\n",
      "weighted avg       0.46      0.53      0.48        66\n",
      "\n"
     ]
    }
   ],
   "source": [
    "target_names = ['most likely', 'probable', 'possible', 'least likely']\n",
    "stacker.fit(X_train_boruta, Y_train_boruta)\n",
    "predictions = list(stacker.predict(X_test_boruta))\n",
    "print(classification_report(Y_test_boruta, predictions, target_names=target_names))"
   ]
  },
  {
   "cell_type": "code",
   "execution_count": 12,
   "metadata": {},
   "outputs": [
    {
     "name": "stdout",
     "output_type": "stream",
     "text": [
      "              precision    recall  f1-score   support\n",
      "\n",
      " most likely       0.50      0.17      0.25         6\n",
      "    probable       0.62      1.00      0.76        32\n",
      "    possible       0.80      0.19      0.31        21\n",
      "least likely       0.86      0.86      0.86         7\n",
      "\n",
      "    accuracy                           0.65        66\n",
      "   macro avg       0.69      0.55      0.54        66\n",
      "weighted avg       0.69      0.65      0.58        66\n",
      "\n"
     ]
    }
   ],
   "source": [
    "vote.fit(X_train_boruta, Y_train_boruta)\n",
    "predictions = list(vote.predict(X_test_boruta))\n",
    "print(classification_report(Y_test_boruta, predictions, target_names=target_names))"
   ]
  },
  {
   "cell_type": "code",
   "execution_count": null,
   "metadata": {},
   "outputs": [],
   "source": []
  }
 ],
 "metadata": {
  "kernelspec": {
   "display_name": "Python 3 (ipykernel)",
   "language": "python",
   "name": "python3"
  },
  "language_info": {
   "codemirror_mode": {
    "name": "ipython",
    "version": 3
   },
   "file_extension": ".py",
   "mimetype": "text/x-python",
   "name": "python",
   "nbconvert_exporter": "python",
   "pygments_lexer": "ipython3",
   "version": "3.8.12"
  }
 },
 "nbformat": 4,
 "nbformat_minor": 4
}
