{
 "cells": [
  {
   "cell_type": "markdown",
   "metadata": {},
   "source": [
    "# __Machine Learning for Prioritizing Blood Pressure Genes__ "
   ]
  },
  {
   "cell_type": "markdown",
   "metadata": {},
   "source": [
    "## Import modules:"
   ]
  },
  {
   "cell_type": "code",
   "execution_count": 1,
   "metadata": {},
   "outputs": [],
   "source": [
    "import re\n",
    "\n",
    "import numpy as np\n",
    "import pandas as pd\n",
    "from numpy import sort\n",
    "from scipy.cluster import hierarchy\n",
    "from scipy.stats import spearmanr\n",
    "\n",
    "regex = re.compile(r\"\\[|\\]|<\", re.IGNORECASE)\n",
    "\n",
    "import seaborn as sns\n",
    "import shap\n",
    "import statsmodels.api as sm\n",
    "\n",
    "%matplotlib inline\n",
    "%config InlineBackend.figure_format ='retina'\n",
    "import statsmodels.stats.api as sms\n",
    "import xgboost\n",
    "from sklearn import datasets, metrics, model_selection, preprocessing\n",
    "from sklearn.ensemble import (\n",
    "    BaggingClassifier,\n",
    "    ExtraTreesClassifier,\n",
    "    GradientBoostingClassifier,\n",
    "    RandomForestClassifier,\n",
    "    StackingClassifier,\n",
    "    VotingClassifier,\n",
    ")\n",
    "\n",
    "\n",
    "from sklearn.linear_model import LogisticRegression\n",
    "from sklearn.metrics import (\n",
    "    accuracy_score,\n",
    "    balanced_accuracy_score,\n",
    "    f1_score,\n",
    "    precision_score,\n",
    "    recall_score,\n",
    "    roc_auc_score\n",
    ")\n",
    "from sklearn.metrics import *\n",
    "from sklearn.model_selection import (\n",
    "    GridSearchCV,\n",
    "    KFold,\n",
    "    RandomizedSearchCV,\n",
    "    RepeatedKFold,\n",
    "    cross_val_predict,\n",
    "    cross_val_score,\n",
    "    cross_validate,\n",
    "    learning_curve,\n",
    "    train_test_split,\n",
    "    validation_curve,\n",
    ")\n",
    "from sklearn.neighbors import KNeighborsClassifier\n",
    "from sklearn.preprocessing import MinMaxScaler\n",
    "from sklearn.svm import SVC\n",
    "from sklearn.tree import DecisionTreeClassifier\n",
    "from skopt import BayesSearchCV\n",
    "from skopt.plots import plot_convergence\n",
    "\n",
    "sns.set_style(\"darkgrid\")\n",
    "sns.mpl.rcParams[\"figure.figsize\"] = (15.0, 9.0)\n",
    "\n",
    "import warnings\n",
    "\n",
    "import matplotlib\n",
    "import matplotlib.pyplot as plt\n",
    "\n",
    "warnings.simplefilter(action=\"ignore\", category=FutureWarning)\n",
    "from warnings import filterwarnings\n",
    "warnings.filterwarnings('ignore')\n",
    "\n",
    "filterwarnings(\"ignore\")\n",
    "\n",
    "seed = 0"
   ]
  },
  {
   "cell_type": "markdown",
   "metadata": {},
   "source": [
    "# Load data:"
   ]
  },
  {
   "cell_type": "code",
   "execution_count": 2,
   "metadata": {},
   "outputs": [],
   "source": [
    "data = pd.read_csv(\"2021-11-19_training_cleaned.csv\", header=0, sep=\",\")"
   ]
  },
  {
   "cell_type": "code",
   "execution_count": 3,
   "metadata": {},
   "outputs": [
    {
     "data": {
      "text/plain": [
       "(327, 109)"
      ]
     },
     "execution_count": 3,
     "metadata": {},
     "output_type": "execute_result"
    }
   ],
   "source": [
    "data['BPlabel_encoded'] = data['BPlabel'].map( {\"most likely\": 1, \"probable\": 2,  \"possible\": 3, \"least likely\": 4})\n",
    "Y = data[\"BPlabel_encoded\"] \n",
    "data = data.drop([\"BPlabel\"],1)\n",
    "data.shape "
   ]
  },
  {
   "cell_type": "code",
   "execution_count": 4,
   "metadata": {},
   "outputs": [],
   "source": [
    "X = pd.read_csv(\"2021-11-19_imputed_training_data.csv\", header=0)\n",
    "X.columns = [\n",
    "    regex.sub(\"_\", col) if any(x in str(col) for x in set((\"[\", \"]\", \"<\"))) else col\n",
    "    for col in X.columns.values\n",
    "]"
   ]
  },
  {
   "cell_type": "code",
   "execution_count": 5,
   "metadata": {},
   "outputs": [],
   "source": [
    "X_train, X_test, Y_train, Y_test = train_test_split(X, Y, test_size=0.2, random_state=seed)"
   ]
  },
  {
   "cell_type": "markdown",
   "metadata": {},
   "source": [
    "# Building Models:\n",
    "- Parameter tuning with Bayesian optimization over hyper parameters"
   ]
  },
  {
   "cell_type": "code",
   "execution_count": 6,
   "metadata": {},
   "outputs": [],
   "source": [
    "xgb = xgboost.XGBClassifier(random_state=seed, num_class=3, objective='multi:softmax', eval_metric='mlogloss') \n",
    "xgb_params = {\n",
    "    'max_depth':  (1, 4), #Maximum depth of a tree. Increasing this value will make the model more complex and more likely to overfit.\n",
    "    'learning_rate': (0.01, 0.5, 'log-uniform'),  #Step size shrinkage used in update to prevents overfitting. After each boosting step, we can directly get the weights of new features\n",
    "    'n_estimators':  (10, 50), #Number of gradient boosted trees. Equivalent to number of boosting rounds.\n",
    "    'reg_alpha':  (1, 10, 'log-uniform'), #L1 regularization term on weights. Increasing this value will make model more conservative.\n",
    "    'reg_lambda':  (1, 10, 'log-uniform')} #L2 regularization term on weights. Increasing this value will make model more conservative.\n",
    "\n",
    "\n",
    "gb = GradientBoostingClassifier(random_state=seed)\n",
    "gb_params = {\n",
    "    'learning_rate': (0.01, 0.5),\n",
    "    'max_depth': (1, 4),\n",
    "    \"max_features\":[\"log2\",\"sqrt\", \"auto\"],\n",
    "    \"criterion\": [\"friedman_mse\", \"mse\", \"mae\"],\n",
    "    'n_estimators': (10, 50)\n",
    "    }\n",
    "\n",
    "rf = RandomForestClassifier(random_state=seed)\n",
    "rf_params={'n_estimators': (10, 50), \n",
    "             'max_features': ['auto', 'sqrt', 'log2'],\n",
    "             'max_depth' : (1, 4),\n",
    "             'criterion' :[\"gini\", \"entropy\"]} \n",
    "\n",
    "dt = DecisionTreeClassifier(random_state=seed)\n",
    "dt_params= {\"criterion\": [\"gini\", \"entropy\"],\n",
    "            'max_features': ['auto', 'sqrt', 'log2'],\n",
    "            'max_depth' : (1, 4)}\n",
    "\n",
    "extra = ExtraTreesClassifier(random_state=seed)\n",
    "extra_params ={'n_estimators': (10, 50), \n",
    "             'max_features': ['auto', 'sqrt', 'log2'],\n",
    "             'max_depth' : (1, 4),\n",
    "             'criterion' :[\"gini\", \"entropy\"]}\n",
    "\n",
    "\n",
    "inner_cv = KFold(n_splits=5, shuffle=True, random_state=seed)\n",
    "outer_cv = KFold(n_splits=5, shuffle=True, random_state=seed)\n",
    "\n",
    "models = []\n",
    "\n",
    "models.append(('XGB', BayesSearchCV(xgb, xgb_params, cv=inner_cv, iid=False, n_jobs=1))) \n",
    "models.append(('RF', BayesSearchCV(rf, rf_params, cv=inner_cv,iid=False, n_jobs=1)))\n",
    "models.append(('GB', BayesSearchCV(gb, gb_params, cv=inner_cv,iid=False, n_jobs=1)))\n",
    "models.append(('DT', BayesSearchCV(dt, dt_params, cv=inner_cv, iid=False, n_jobs=1)))\n",
    "models.append(('ExtraTrees', BayesSearchCV(extra, extra_params, cv=inner_cv, iid=False, n_jobs=1)))\n",
    "#models.append(('KNN', BayesSearchCV(knn, knn_params, cv=inner_cv, iid=False, n_jobs=1)))\n",
    "#models.append(('SVC', BayesSearchCV(svc, svc_params, cv=inner_cv, iid=False, n_jobs=1)))\n",
    "\n",
    "results = []\n",
    "results1 = []\n",
    "results2 = []\n",
    "results3 = []\n",
    "names = []\n",
    "names2 =[]\n",
    "scoring = ['accuracy', 'balanced_accuracy', 'f1_weighted', \n",
    "          'precision_weighted','recall_weighted'] #https://scikit-learn.org/stable/modules/model_evaluation.html\n"
   ]
  },
  {
   "cell_type": "markdown",
   "metadata": {},
   "source": [
    "## Model Benchmarking - all features:\n",
    "### Tree-based models:"
   ]
  },
  {
   "cell_type": "code",
   "execution_count": 7,
   "metadata": {},
   "outputs": [
    {
     "name": "stdout",
     "output_type": "stream",
     "text": [
      "XGB Nested CV results for all scores: \n",
      " {'fit_time': array([64.80858803, 63.89787507, 59.02371597, 63.03747582, 65.11796403]), 'score_time': array([0.00574422, 0.00547695, 0.00478101, 0.00519896, 0.00508308]), 'test_accuracy': array([0.59090909, 0.54545455, 0.6       , 0.55384615, 0.49230769]), 'test_balanced_accuracy': array([0.55022321, 0.45921921, 0.54380342, 0.50288462, 0.48075739]), 'test_f1_weighted': array([0.54641332, 0.47677161, 0.57545924, 0.49082777, 0.47723866]), 'test_precision_weighted': array([0.56456612, 0.56895769, 0.58230191, 0.44881165, 0.47459096]), 'test_recall_weighted': array([0.59090909, 0.54545455, 0.6       , 0.55384615, 0.49230769])} \n",
      "\n",
      "XGB Accuracy Nested CV Average 0.5565034965034965\n",
      "XGB Balanced Accuracy Nested CV Average 0.5073775691694907\n",
      "XGB F1 Nested CV Average 0.5133421198420437\n",
      "XGB Precision Nested CV Average 0.527845667048939\n",
      "XGB Recall Nested CV Average 0.5565034965034965\n",
      "Best Parameters: \n",
      "OrderedDict([('learning_rate', 0.01), ('max_depth', 3), ('n_estimators', 50), ('reg_alpha', 1), ('reg_lambda', 5)])\n",
      "\n",
      "Non-nested CV Results:\n",
      "XGB Train accuracy: 0.7318007662835249 Test accuracy: 0.6212121212121212\n",
      "XGB Train balanced accuracy: 0.6810286935286936 Test balanced accuracy: 0.5699404761904763\n",
      "XGB Train F1 0.7069941853501923 Test F1: 0.5714678429868302\n",
      "XGB Train recall: 0.7318007662835249 Test recall: 0.6212121212121212\n",
      "XGB Train precision: 0.7876733219555994 Test precision: 0.603871158392435\n",
      "\n",
      "\n",
      "RF Nested CV results for all scores: \n",
      " {'fit_time': array([62.29503393, 51.37859678, 55.43535638, 59.27969885, 72.87832808]), 'score_time': array([0.00410104, 0.00521326, 0.00433469, 0.00739217, 0.00582623]), 'test_accuracy': array([0.59090909, 0.56060606, 0.46153846, 0.55384615, 0.53846154]), 'test_balanced_accuracy': array([0.51822917, 0.46824597, 0.33760684, 0.47019231, 0.44704433]), 'test_f1_weighted': array([0.52315322, 0.45914876, 0.34931334, 0.46384615, 0.44719189]), 'test_precision_weighted': array([0.5711527 , 0.45426487, 0.31135531, 0.42725275, 0.55107226]), 'test_recall_weighted': array([0.59090909, 0.56060606, 0.46153846, 0.55384615, 0.53846154])} \n",
      "\n",
      "RF Accuracy Nested CV Average 0.541072261072261\n",
      "RF Balanced Accuracy Nested CV Average 0.4482637229366233\n",
      "RF F1 Nested CV Average 0.44853067165184396\n",
      "RF Precision Nested CV Average 0.4630195788235004\n",
      "RF Recall Nested CV Average 0.541072261072261\n",
      "Best Parameters: \n",
      "OrderedDict([('criterion', 'entropy'), ('max_depth', 4), ('max_features', 'sqrt'), ('n_estimators', 50)])\n",
      "\n",
      "Non-nested CV Results:\n",
      "RF Train accuracy: 0.6819923371647509 Test accuracy: 0.5454545454545454\n",
      "RF Train balanced accuracy: 0.6170634920634921 Test balanced accuracy: 0.36904761904761907\n",
      "RF Train F1 0.6283732027580955 Test F1: 0.4249635201949367\n",
      "RF Train recall: 0.6819923371647509 Test recall: 0.5454545454545454\n",
      "RF Train precision: 0.7967156738600162 Test precision: 0.5194982613015401\n",
      "\n",
      "\n",
      "GB Nested CV results for all scores: \n",
      " {'fit_time': array([133.74233699, 168.663661  , 135.66021609, 138.47739601,\n",
      "       148.85552692]), 'score_time': array([0.00345683, 0.00454092, 0.00408697, 0.00437212, 0.00375915]), 'test_accuracy': array([0.59090909, 0.57575758, 0.63076923, 0.56923077, 0.63076923]), 'test_balanced_accuracy': array([0.63020833, 0.50609421, 0.56071937, 0.5084707 , 0.66199713]), 'test_f1_weighted': array([0.57859067, 0.52740741, 0.58857143, 0.53202355, 0.62718325]), 'test_precision_weighted': array([0.58888519, 0.51721763, 0.6551495 , 0.5955711 , 0.63300311]), 'test_recall_weighted': array([0.59090909, 0.57575758, 0.63076923, 0.56923077, 0.63076923])} \n",
      "\n",
      "GB Accuracy Nested CV Average 0.5994871794871794\n",
      "GB Balanced Accuracy Nested CV Average 0.5734979474342655\n",
      "GB F1 Nested CV Average 0.5707552608115722\n",
      "GB Precision Nested CV Average 0.5979653049949032\n",
      "GB Recall Nested CV Average 0.5994871794871794\n",
      "Best Parameters: \n",
      "OrderedDict([('criterion', 'mse'), ('learning_rate', 0.016524148111821006), ('max_depth', 4), ('max_features', 'auto'), ('n_estimators', 35)])\n",
      "\n",
      "Non-nested CV Results:\n",
      "GB Train accuracy: 0.8620689655172413 Test accuracy: 0.6060606060606061\n",
      "GB Train balanced accuracy: 0.8317460317460317 Test balanced accuracy: 0.5301339285714286\n",
      "GB Train F1 0.8574079609863605 Test F1: 0.5458942141868971\n",
      "GB Train recall: 0.8620689655172413 Test recall: 0.6060606060606061\n",
      "GB Train precision: 0.8945233265720081 Test precision: 0.6456060606060606\n",
      "\n",
      "\n",
      "DT Nested CV results for all scores: \n",
      " {'fit_time': array([43.3218441 , 44.94011188, 42.11435413, 42.71351814, 45.93128181]), 'score_time': array([0.00419402, 0.0040822 , 0.0040679 , 0.00407887, 0.00403905]), 'test_accuracy': array([0.51515152, 0.48484848, 0.46153846, 0.52307692, 0.52307692]), 'test_balanced_accuracy': array([0.32142857, 0.32711694, 0.34757835, 0.44262821, 0.42857143]), 'test_f1_weighted': array([0.37037037, 0.40601888, 0.35084615, 0.44185814, 0.38049553]), 'test_precision_weighted': array([0.34848485, 0.4256993 , 0.29692791, 0.40752137, 0.32333333]), 'test_recall_weighted': array([0.51515152, 0.48484848, 0.46153846, 0.52307692, 0.52307692])} \n",
      "\n",
      "DT Accuracy Nested CV Average 0.5015384615384615\n",
      "DT Balanced Accuracy Nested CV Average 0.37346469763808476\n",
      "DT F1 Nested CV Average 0.38991781624409205\n",
      "DT Precision Nested CV Average 0.36039335297825864\n",
      "DT Recall Nested CV Average 0.5015384615384615\n",
      "Best Parameters: \n",
      "OrderedDict([('criterion', 'entropy'), ('max_depth', 2), ('max_features', 'log2')])\n",
      "\n",
      "Non-nested CV Results:\n",
      "DT Train accuracy: 0.5440613026819924 Test accuracy: 0.5151515151515151\n",
      "DT Train balanced accuracy: 0.435515873015873 Test balanced accuracy: 0.34188988095238093\n",
      "DT Train F1 0.4770201872362167 Test F1: 0.4604058604058604\n",
      "DT Train recall: 0.5440613026819924 Test recall: 0.5151515151515151\n",
      "DT Train precision: 0.46679642209542344 Test precision: 0.47821969696969696\n",
      "\n",
      "\n",
      "ExtraTrees Nested CV results for all scores: \n",
      " {'fit_time': array([52.05963087, 50.89543223, 51.10521793, 48.729846  , 52.39445615]), 'score_time': array([0.00499916, 0.00711679, 0.00482297, 0.00508094, 0.00603795]), 'test_accuracy': array([0.53030303, 0.5       , 0.50769231, 0.55384615, 0.50769231]), 'test_balanced_accuracy': array([0.33333333, 0.33568548, 0.36538462, 0.44839744, 0.41995074]), 'test_f1_weighted': array([0.40269844, 0.36914601, 0.38713869, 0.43839367, 0.36675632]), 'test_precision_weighted': array([0.67051467, 0.34848485, 0.39009126, 0.41551782, 0.30147762]), 'test_recall_weighted': array([0.53030303, 0.5       , 0.50769231, 0.55384615, 0.50769231])} \n",
      "\n",
      "ExtraTrees Accuracy Nested CV Average 0.5199067599067598\n",
      "ExtraTrees Balanced Accuracy Nested CV Average 0.3805503214805217\n",
      "ExtraTrees F1 Nested CV Average 0.3928266228978323\n",
      "ExtraTrees Precision Nested CV Average 0.4252172435223282\n",
      "ExtraTrees Recall Nested CV Average 0.5199067599067598\n",
      "Best Parameters: \n",
      "OrderedDict([('criterion', 'entropy'), ('max_depth', 2), ('max_features', 'sqrt'), ('n_estimators', 10)])\n",
      "\n",
      "Non-nested CV Results:\n",
      "ExtraTrees Train accuracy: 0.5287356321839081 Test accuracy: 0.5303030303030303\n",
      "ExtraTrees Train balanced accuracy: 0.40064102564102566 Test balanced accuracy: 0.33333333333333337\n",
      "ExtraTrees Train F1 0.3958215688049983 Test F1: 0.4026984357127898\n",
      "ExtraTrees Train recall: 0.5287356321839081 Test recall: 0.5303030303030303\n",
      "ExtraTrees Train precision: 0.3504214279414914 Test precision: 0.6705146705146705\n",
      "\n",
      "\n",
      "All balanced accuracy results: [array([0.54613095, 0.48336694, 0.45530627, 0.46442308, 0.43555008]), array([0.51041667, 0.46824597, 0.33760684, 0.45929487, 0.41995074]), array([0.48139881, 0.48190066, 0.434651  , 0.42603022, 0.5259647 ]), array([0.32142857, 0.32711694, 0.34757835, 0.44262821, 0.42857143]), array([0.33333333, 0.32762097, 0.36538462, 0.44839744, 0.41995074])]\n"
     ]
    }
   ],
   "source": [
    "for name, model in models:\n",
    "    nested_cv_results = model_selection.cross_validate(model, X , Y, cv=outer_cv, scoring=scoring, error_score=\"raise\")\n",
    "    nested_cv_results2 = model_selection.cross_val_score(model, X , Y, cv=outer_cv, scoring='balanced_accuracy', error_score=\"raise\")\n",
    "    results.append(nested_cv_results2)\n",
    "    names.append(name)\n",
    "    print(name, 'Nested CV results for all scores:', '\\n', nested_cv_results, '\\n')\n",
    "    print(name, 'Accuracy Nested CV Average', np.mean(nested_cv_results['test_accuracy']))\n",
    "    print(name, 'Balanced Accuracy Nested CV Average', np.mean(nested_cv_results['test_balanced_accuracy'] ))\n",
    "    print(name, 'F1 Nested CV Average', np.mean(nested_cv_results['test_f1_weighted'] ))\n",
    "    print(name, 'Precision Nested CV Average', np.mean(nested_cv_results['test_precision_weighted'] ))\n",
    "    print(name, 'Recall Nested CV Average', np.mean(nested_cv_results['test_recall_weighted'] ))\n",
    "    model.fit(X_train, Y_train)\n",
    "    print(\"Best Parameters: \\n{}\\n\".format(model.best_params_))\n",
    "    print('Non-nested CV Results:')\n",
    "    y_pred_train = model.predict(X_train)\n",
    "    y_pred = model.predict(X_test)\n",
    "    print(name, 'Train accuracy:', accuracy_score(Y_train, y_pred_train), 'Test accuracy:', accuracy_score(Y_test, y_pred))\n",
    "    print(name, 'Train balanced accuracy:', balanced_accuracy_score(Y_train, y_pred_train), 'Test balanced accuracy:', balanced_accuracy_score(Y_test, y_pred))\n",
    "    print(name, 'Train F1', f1_score(Y_train, y_pred_train, average='weighted'), 'Test F1:', f1_score(Y_test, y_pred, average='weighted'))\n",
    "    print(name, 'Train recall:', recall_score(Y_train, y_pred_train, average='weighted'),'Test recall:', recall_score(Y_test, y_pred,average='weighted'))\n",
    "    print(name, 'Train precision:', precision_score(Y_train, y_pred_train,average='weighted'), 'Test precision:', precision_score(Y_test, y_pred,average='weighted'))\n",
    "    print('\\n')\n",
    "\n",
    "    \n",
    "print('All balanced accuracy results:', results)    "
   ]
  },
  {
   "cell_type": "markdown",
   "metadata": {},
   "source": [
    "### Others models:\n",
    "- all other models require feature scaling before running"
   ]
  },
  {
   "cell_type": "code",
   "execution_count": 8,
   "metadata": {},
   "outputs": [],
   "source": [
    "knn = KNeighborsClassifier()\n",
    "knn_params = {\n",
    "    'n_neighbors':[7,9,11,13,15,17],\n",
    "    'weights' : ['uniform','distance'],\n",
    "    'metric' : ['euclidean','manhattan', 'minkowski']}\n",
    "\n",
    "\n",
    "lr = LogisticRegression(penalty='l1', solver='liblinear',multi_class='auto',random_state=seed)\n",
    "lr_params= {\n",
    "    'penalty':['l1', 'l2'], \n",
    "    'C': [0.5, 1, 5, 10], \n",
    "    'max_iter':[500, 1000, 2500]}\n",
    "\n",
    "svc = SVC()\n",
    "svc_params = {\n",
    "    'kernel': ['rbf'],\n",
    "   'C': (1e0, 1e3),\n",
    "   'gamma': ['scale', 'auto']}\n",
    "\n",
    "othermodels = []\n",
    "\n",
    "othermodels.append(('KNN', BayesSearchCV(knn, knn_params, cv=inner_cv, iid=False, n_jobs=1)))\n",
    "othermodels.append(('SVC', BayesSearchCV(svc, svc_params, cv=inner_cv, iid=False, n_jobs=1)))\n",
    "othermodels.append(('LR', BayesSearchCV(lr, lr_params, cv=inner_cv, iid=False, n_jobs=1)))\n",
    "\n",
    "results = []\n",
    "results1 = []\n",
    "results2 = []\n",
    "results3 = []\n",
    "names = []\n",
    "names2 =[]\n",
    "scoring = ['accuracy', 'balanced_accuracy', 'f1_weighted', \n",
    "          'precision_weighted','recall_weighted'] #https://scikit-learn.org/stable/modules/model_evaluation.html\n"
   ]
  },
  {
   "cell_type": "code",
   "execution_count": 9,
   "metadata": {},
   "outputs": [],
   "source": [
    "X2 = MinMaxScaler().fit_transform(X)\n",
    "X_train, X_test, Y_train, Y_test = train_test_split(X2, Y, test_size=0.2, random_state=0)"
   ]
  },
  {
   "cell_type": "code",
   "execution_count": 10,
   "metadata": {},
   "outputs": [
    {
     "name": "stdout",
     "output_type": "stream",
     "text": [
      "KNN Nested CV results for all scores: \n",
      " {'fit_time': array([50.26002002, 50.16565108, 48.5950501 , 44.82649708, 50.59111404]), 'score_time': array([0.00375915, 0.0064888 , 0.005862  , 0.00524998, 0.00477386]), 'test_accuracy': array([0.42424242, 0.40909091, 0.44615385, 0.49230769, 0.47692308]), 'test_balanced_accuracy': array([0.31473214, 0.31754032, 0.32834758, 0.44775641, 0.43965517]), 'test_f1_weighted': array([0.36943509, 0.36250358, 0.34621735, 0.42124451, 0.40014036]), 'test_precision_weighted': array([0.36352041, 0.34158981, 0.30372781, 0.38182958, 0.39311966]), 'test_recall_weighted': array([0.42424242, 0.40909091, 0.44615385, 0.49230769, 0.47692308])} \n",
      "\n",
      "KNN Accuracy Nested CV Average 0.44974358974358974\n",
      "KNN Balanced Accuracy Nested CV Average 0.369606325291114\n",
      "KNN F1 Nested CV Average 0.37990817741218497\n",
      "KNN Precision Nested CV Average 0.35675745355434574\n",
      "KNN Recall Nested CV Average 0.44974358974358974\n",
      "Best Parameters: \n",
      "OrderedDict([('metric', 'minkowski'), ('n_neighbors', 17), ('weights', 'uniform')])\n",
      "\n",
      "Non-nested CV Results:\n",
      "KNN Train accuracy: 0.5172413793103449 Test accuracy: 0.45454545454545453\n",
      "KNN Train balanced accuracy: 0.4191849816849817 Test balanced accuracy: 0.29427083333333337\n",
      "KNN Train F1 0.4326985600863962 Test F1: 0.35722074996845177\n",
      "KNN Train recall: 0.5172413793103449 Test recall: 0.45454545454545453\n",
      "KNN Train precision: 0.4234185937334363 Test precision: 0.3463317384370016\n",
      "\n",
      "\n",
      "SVC Nested CV results for all scores: \n",
      " {'fit_time': array([43.88997507, 43.21414685, 46.76189327, 42.67335105, 44.57964087]), 'score_time': array([0.00611997, 0.00655103, 0.00657487, 0.00589299, 0.00638103]), 'test_accuracy': array([0.45454545, 0.51515152, 0.47692308, 0.53846154, 0.50769231]), 'test_balanced_accuracy': array([0.48363095, 0.34375   , 0.3468661 , 0.42916667, 0.41995074]), 'test_f1_weighted': array([0.42708171, 0.37591583, 0.36153846, 0.4       , 0.36410256]), 'test_precision_weighted': array([0.41896235, 0.35233285, 0.33218623, 0.32712551, 0.29230769]), 'test_recall_weighted': array([0.45454545, 0.51515152, 0.47692308, 0.53846154, 0.50769231])} \n",
      "\n",
      "SVC Accuracy Nested CV Average 0.49855477855477853\n",
      "SVC Balanced Accuracy Nested CV Average 0.40467289096599446\n",
      "SVC F1 Nested CV Average 0.38572771433022884\n",
      "SVC Precision Nested CV Average 0.3445829272623531\n",
      "SVC Recall Nested CV Average 0.49855477855477853\n",
      "Best Parameters: \n",
      "OrderedDict([('C', 1.0517005607852983), ('gamma', 'scale'), ('kernel', 'rbf')])\n",
      "\n",
      "Non-nested CV Results:\n",
      "SVC Train accuracy: 0.5287356321839081 Test accuracy: 0.5151515151515151\n",
      "SVC Train balanced accuracy: 0.39969474969474966 Test balanced accuracy: 0.3214285714285714\n",
      "SVC Train F1 0.4094192262777887 Test F1: 0.37037037037037035\n",
      "SVC Train recall: 0.5287356321839081 Test recall: 0.5151515151515151\n",
      "SVC Train precision: 0.7576244620370862 Test precision: 0.3484848484848485\n",
      "\n",
      "\n",
      "LR Nested CV results for all scores: \n",
      " {'fit_time': array([49.16898298, 55.6709702 , 49.61137986, 46.71823502, 46.88021398]), 'score_time': array([0.00287104, 0.00323677, 0.00269699, 0.00319815, 0.0031321 ]), 'test_accuracy': array([0.48484848, 0.46969697, 0.49230769, 0.55384615, 0.47692308]), 'test_balanced_accuracy': array([0.39955357, 0.34888196, 0.34615385, 0.44839744, 0.40270936]), 'test_f1_weighted': array([0.42183372, 0.412094  , 0.36893604, 0.44176463, 0.36593407]), 'test_precision_weighted': array([0.3989899 , 0.44878788, 0.38692308, 0.42875458, 0.3186014 ]), 'test_recall_weighted': array([0.48484848, 0.46969697, 0.49230769, 0.55384615, 0.47692308])} \n",
      "\n",
      "LR Accuracy Nested CV Average 0.4955244755244756\n",
      "LR Balanced Accuracy Nested CV Average 0.38913923557902985\n",
      "LR F1 Nested CV Average 0.40211249345944333\n",
      "LR Precision Nested CV Average 0.39641136641136643\n",
      "LR Recall Nested CV Average 0.4955244755244756\n",
      "Best Parameters: \n",
      "OrderedDict([('C', 1.0), ('max_iter', 1000), ('penalty', 'l1')])\n",
      "\n",
      "Non-nested CV Results:\n",
      "LR Train accuracy: 0.5862068965517241 Test accuracy: 0.48484848484848486\n",
      "LR Train balanced accuracy: 0.4918345543345543 Test balanced accuracy: 0.3995535714285714\n",
      "LR Train F1 0.5333438030607824 Test F1: 0.4218337218337218\n",
      "LR Train recall: 0.5862068965517241 Test recall: 0.48484848484848486\n",
      "LR Train precision: 0.6006717912629242 Test precision: 0.3989898989898989\n",
      "\n",
      "\n",
      "All balanced accuracy results: [array([0.31473214, 0.31754032, 0.32834758, 0.44775641, 0.43965517]), array([0.48363095, 0.34375   , 0.36538462, 0.42916667, 0.41995074]), array([0.39955357, 0.34888196, 0.34615385, 0.44839744, 0.40270936])]\n"
     ]
    }
   ],
   "source": [
    "for name, model in othermodels:\n",
    "    nested_cv_results = model_selection.cross_validate(model, X2 , Y, cv=outer_cv, scoring=scoring, error_score=\"raise\")\n",
    "    nested_cv_results2 = model_selection.cross_val_score(model, X2 , Y, cv=outer_cv, scoring='balanced_accuracy', error_score=\"raise\")\n",
    "    results.append(nested_cv_results2)\n",
    "    names.append(name)\n",
    "    print(name, 'Nested CV results for all scores:', '\\n', nested_cv_results, '\\n')\n",
    "    print(name, 'Accuracy Nested CV Average', np.mean(nested_cv_results['test_accuracy']))\n",
    "    print(name, 'Balanced Accuracy Nested CV Average', np.mean(nested_cv_results['test_balanced_accuracy'] ))\n",
    "    print(name, 'F1 Nested CV Average', np.mean(nested_cv_results['test_f1_weighted'] ))\n",
    "    print(name, 'Precision Nested CV Average', np.mean(nested_cv_results['test_precision_weighted'] ))\n",
    "    print(name, 'Recall Nested CV Average', np.mean(nested_cv_results['test_recall_weighted'] ))\n",
    "    model.fit(X_train, Y_train)\n",
    "    print(\"Best Parameters: \\n{}\\n\".format(model.best_params_))\n",
    "    print('Non-nested CV Results:')\n",
    "    y_pred_train = model.predict(X_train)\n",
    "    y_pred = model.predict(X_test)\n",
    "    print(name, 'Train accuracy:', accuracy_score(Y_train, y_pred_train), 'Test accuracy:', accuracy_score(Y_test, y_pred))\n",
    "    print(name, 'Train balanced accuracy:', balanced_accuracy_score(Y_train, y_pred_train), 'Test balanced accuracy:', balanced_accuracy_score(Y_test, y_pred))\n",
    "    print(name, 'Train F1', f1_score(Y_train, y_pred_train, average='weighted'), 'Test F1:', f1_score(Y_test, y_pred, average='weighted'))\n",
    "    print(name, 'Train recall:', recall_score(Y_train, y_pred_train, average='weighted'),'Test recall:', recall_score(Y_test, y_pred,average='weighted'))\n",
    "    print(name, 'Train precision:', precision_score(Y_train, y_pred_train,average='weighted'), 'Test precision:', precision_score(Y_test, y_pred,average='weighted'))\n",
    "    print('\\n')\n",
    "\n",
    "    \n",
    "print('All balanced accuracy results:', results) "
   ]
  },
  {
   "cell_type": "markdown",
   "metadata": {},
   "source": [
    "## Model benchmarking - BorutaShap feature selection"
   ]
  },
  {
   "cell_type": "code",
   "execution_count": 7,
   "metadata": {},
   "outputs": [],
   "source": [
    "X_boruta_sel = pd.read_csv(\"2021-11-19_selected_features_training_data.csv\", header=0)\n",
    "X_boruta_sel.columns = [\n",
    "    regex.sub(\"_\", col) if any(x in str(col) for x in set((\"[\", \"]\", \"<\"))) else col\n",
    "    for col in X_boruta_sel.columns.values\n",
    "]"
   ]
  },
  {
   "cell_type": "code",
   "execution_count": 8,
   "metadata": {},
   "outputs": [],
   "source": [
    "X_train_boruta, X_test_boruta, Y_train_boruta, Y_test_boruta = train_test_split(X_boruta_sel, Y, test_size=0.2, random_state=0)"
   ]
  },
  {
   "cell_type": "code",
   "execution_count": 13,
   "metadata": {},
   "outputs": [
    {
     "name": "stdout",
     "output_type": "stream",
     "text": [
      "XGB Nested CV results for all scores: \n",
      " {'fit_time': array([62.71318293, 54.88111281, 66.87375093, 59.91220093, 64.24479914]), 'score_time': array([0.00586295, 0.00561619, 0.00560021, 0.00496197, 0.00529289]), 'test_accuracy': array([0.62121212, 0.51515152, 0.67692308, 0.50769231, 0.64615385]), 'test_balanced_accuracy': array([0.56994048, 0.48895711, 0.59170228, 0.48466117, 0.6253592 ]), 'test_f1_weighted': array([0.5733198 , 0.48261395, 0.63828203, 0.49217391, 0.63739287]), 'test_precision_weighted': array([0.60576599, 0.47752936, 0.7467366 , 0.51141167, 0.66503945]), 'test_recall_weighted': array([0.62121212, 0.51515152, 0.67692308, 0.50769231, 0.64615385])} \n",
      "\n",
      "XGB Accuracy Nested CV Average 0.5934265734265733\n",
      "XGB Balanced Accuracy Nested CV Average 0.5521240468786353\n",
      "XGB F1 Nested CV Average 0.5647565143307052\n",
      "XGB Precision Nested CV Average 0.6012966123238168\n",
      "XGB Recall Nested CV Average 0.5934265734265733\n",
      "Best Parameters: \n",
      "OrderedDict([('learning_rate', 0.03772101259984952), ('max_depth', 3), ('n_estimators', 42), ('reg_alpha', 1), ('reg_lambda', 1)])\n",
      "\n",
      "Non-nested CV Results:\n",
      "XGB Train accuracy: 0.7662835249042146 Test accuracy: 0.6363636363636364\n",
      "XGB Train balanced accuracy: 0.7269078144078144 Test balanced accuracy: 0.5818452380952381\n",
      "XGB Train F1 0.7550493919820709 Test F1: 0.6034343434343434\n",
      "XGB Train recall: 0.7662835249042146 Test recall: 0.6363636363636364\n",
      "XGB Train precision: 0.792220638707301 Test precision: 0.6357910500352361\n",
      "\n",
      "\n",
      "RF Nested CV results for all scores: \n",
      " {'fit_time': array([55.60645795, 54.67783189, 54.54754519, 61.82649112, 60.05773783]), 'score_time': array([0.00564981, 0.0044241 , 0.00410962, 0.00563979, 0.00623417]), 'test_accuracy': array([0.60606061, 0.53030303, 0.58461538, 0.53846154, 0.56923077]), 'test_balanced_accuracy': array([0.51599702, 0.47434018, 0.47311254, 0.45911172, 0.52057677]), 'test_f1_weighted': array([0.50355318, 0.45969161, 0.50423849, 0.47136249, 0.51789988]), 'test_precision_weighted': array([0.53548456, 0.57196454, 0.66304676, 0.52908425, 0.62339744]), 'test_recall_weighted': array([0.60606061, 0.53030303, 0.58461538, 0.53846154, 0.56923077])} \n",
      "\n",
      "RF Accuracy Nested CV Average 0.5657342657342657\n",
      "RF Balanced Accuracy Nested CV Average 0.4886276444351389\n",
      "RF F1 Nested CV Average 0.4913491301657113\n",
      "RF Precision Nested CV Average 0.5845955096292818\n",
      "RF Recall Nested CV Average 0.5657342657342657\n",
      "Best Parameters: \n",
      "OrderedDict([('criterion', 'entropy'), ('max_depth', 4), ('max_features', 'sqrt'), ('n_estimators', 38)])\n",
      "\n",
      "Non-nested CV Results:\n",
      "RF Train accuracy: 0.7088122605363985 Test accuracy: 0.6515151515151515\n",
      "RF Train balanced accuracy: 0.6498473748473748 Test balanced accuracy: 0.5773809523809523\n",
      "RF Train F1 0.67137536200203 Test F1: 0.5694146282098089\n",
      "RF Train recall: 0.7088122605363985 Test recall: 0.6515151515151515\n",
      "RF Train precision: 0.776333312844469 Test precision: 0.6659610814022578\n",
      "\n",
      "\n",
      "GB Nested CV results for all scores: \n",
      " {'fit_time': array([84.78499889, 76.16154218, 70.915169  , 77.57819009, 74.81526589]), 'score_time': array([0.00328207, 0.00332594, 0.00299811, 0.00342202, 0.00325489]), 'test_accuracy': array([0.62121212, 0.57575758, 0.64615385, 0.52307692, 0.64615385]), 'test_balanced_accuracy': array([0.61383929, 0.56566166, 0.55163818, 0.51341575, 0.6253592 ]), 'test_f1_weighted': array([0.59935666, 0.56827574, 0.5889726 , 0.52262278, 0.63908194]), 'test_precision_weighted': array([0.61370523, 0.57235677, 0.68721279, 0.61670889, 0.65316305]), 'test_recall_weighted': array([0.62121212, 0.57575758, 0.64615385, 0.52307692, 0.64615385])} \n",
      "\n",
      "GB Accuracy Nested CV Average 0.6024708624708625\n",
      "GB Balanced Accuracy Nested CV Average 0.5739828131124015\n",
      "GB F1 Nested CV Average 0.5836619460848561\n",
      "GB Precision Nested CV Average 0.628629346837903\n",
      "GB Recall Nested CV Average 0.6024708624708625\n",
      "Best Parameters: \n",
      "OrderedDict([('criterion', 'mse'), ('learning_rate', 0.19910731251957545), ('max_depth', 3), ('max_features', 'sqrt'), ('n_estimators', 23)])\n",
      "\n",
      "Non-nested CV Results:\n",
      "GB Train accuracy: 0.9272030651340997 Test accuracy: 0.5757575757575758\n",
      "GB Train balanced accuracy: 0.9155677655677655 Test balanced accuracy: 0.5606398809523809\n",
      "GB Train F1 0.9264825234028304 Test F1: 0.5694995694995695\n",
      "GB Train recall: 0.9272030651340997 Test recall: 0.5757575757575758\n",
      "GB Train precision: 0.9320183019577597 Test precision: 0.5726314788814789\n",
      "\n",
      "\n",
      "DT Nested CV results for all scores: \n",
      " {'fit_time': array([38.97246504, 37.77595806, 38.50235915, 35.37269306, 39.5105207 ]), 'score_time': array([0.00335884, 0.00359297, 0.00360394, 0.00355577, 0.00335002]), 'test_accuracy': array([0.5       , 0.56060606, 0.55384615, 0.55384615, 0.53846154]), 'test_balanced_accuracy': array([0.39732143, 0.42045455, 0.46456553, 0.45654762, 0.45361248]), 'test_f1_weighted': array([0.3989899 , 0.45646386, 0.51415611, 0.45321267, 0.47995801]), 'test_precision_weighted': array([0.33682984, 0.43356946, 0.5901964 , 0.48404928, 0.49686028]), 'test_recall_weighted': array([0.5       , 0.56060606, 0.55384615, 0.55384615, 0.53846154])} \n",
      "\n",
      "DT Accuracy Nested CV Average 0.5413519813519814\n",
      "DT Balanced Accuracy Nested CV Average 0.4385003199227337\n",
      "DT F1 Nested CV Average 0.4605561107046342\n",
      "DT Precision Nested CV Average 0.4683010527282425\n",
      "DT Recall Nested CV Average 0.5413519813519814\n",
      "Best Parameters: \n",
      "OrderedDict([('criterion', 'entropy'), ('max_depth', 3), ('max_features', 'log2')])\n",
      "\n",
      "Non-nested CV Results:\n",
      "DT Train accuracy: 0.5708812260536399 Test accuracy: 0.5\n",
      "DT Train balanced accuracy: 0.4653235653235653 Test balanced accuracy: 0.33407738095238093\n",
      "DT Train F1 0.5180677098850748 Test F1: 0.44828464828464826\n",
      "DT Train recall: 0.5708812260536399 Test recall: 0.5\n",
      "DT Train precision: 0.6165759225650332 Test precision: 0.46811868686868685\n",
      "\n",
      "\n",
      "ExtraTrees Nested CV results for all scores: \n",
      " {'fit_time': array([47.99756908, 60.8019793 , 58.18398404, 49.34325123, 52.08642817]), 'score_time': array([0.0051899 , 0.00478578, 0.00458813, 0.00477862, 0.00637698]), 'test_accuracy': array([0.51515152, 0.5       , 0.52307692, 0.50769231, 0.50769231]), 'test_balanced_accuracy': array([0.38541667, 0.35887097, 0.38461538, 0.42339744, 0.42323481]), 'test_f1_weighted': array([0.43830482, 0.37395937, 0.4038914 , 0.41475783, 0.39798035]), 'test_precision_weighted': array([0.44837262, 0.3239899 , 0.3933687 , 0.36936005, 0.4805668 ]), 'test_recall_weighted': array([0.51515152, 0.5       , 0.52307692, 0.50769231, 0.50769231])} \n",
      "\n",
      "ExtraTrees Accuracy Nested CV Average 0.5107226107226107\n",
      "ExtraTrees Balanced Accuracy Nested CV Average 0.3951070532174536\n",
      "ExtraTrees F1 Nested CV Average 0.4057787567003704\n",
      "ExtraTrees Precision Nested CV Average 0.4031316135253718\n",
      "ExtraTrees Recall Nested CV Average 0.5107226107226107\n",
      "Best Parameters: \n",
      "OrderedDict([('criterion', 'gini'), ('max_depth', 4), ('max_features', 'sqrt'), ('n_estimators', 24)])\n",
      "\n",
      "Non-nested CV Results:\n",
      "ExtraTrees Train accuracy: 0.6015325670498084 Test accuracy: 0.5454545454545454\n",
      "ExtraTrees Train balanced accuracy: 0.49383394383394386 Test balanced accuracy: 0.40513392857142855\n",
      "ExtraTrees Train F1 0.536574647602 Test F1: 0.47230764302645906\n",
      "ExtraTrees Train recall: 0.6015325670498084 Test recall: 0.5454545454545454\n",
      "ExtraTrees Train precision: 0.7176525833513129 Test precision: 0.5028058361391695\n",
      "\n",
      "\n",
      "All balanced accuracy results: [array([0.31473214, 0.31754032, 0.32834758, 0.44775641, 0.43965517]), array([0.48363095, 0.34375   , 0.36538462, 0.42916667, 0.41995074]), array([0.39955357, 0.34888196, 0.34615385, 0.44839744, 0.40270936]), array([0.58184524, 0.51878666, 0.63247863, 0.46863553, 0.60360222]), array([0.50818452, 0.47434018, 0.50320513, 0.4400641 , 0.52919745]), array([0.54613095, 0.53390762, 0.62090456, 0.4860348 , 0.61673851]), array([0.39732143, 0.42045455, 0.46456553, 0.45654762, 0.45361248]), array([0.39322917, 0.37449597, 0.38461538, 0.42339744, 0.42323481])]\n"
     ]
    }
   ],
   "source": [
    "for name, model in models:\n",
    "    nested_cv_results = model_selection.cross_validate(model, X_boruta_sel , Y, cv=outer_cv, scoring=scoring, error_score=\"raise\")\n",
    "    nested_cv_results2 = model_selection.cross_val_score(model, X_boruta_sel , Y, cv=outer_cv, scoring='balanced_accuracy', error_score=\"raise\")\n",
    "    results.append(nested_cv_results2)\n",
    "    names.append(name)\n",
    "    print(name, 'Nested CV results for all scores:', '\\n', nested_cv_results, '\\n')\n",
    "    print(name, 'Accuracy Nested CV Average', np.mean(nested_cv_results['test_accuracy']))\n",
    "    print(name, 'Balanced Accuracy Nested CV Average', np.mean(nested_cv_results['test_balanced_accuracy'] ))\n",
    "    print(name, 'F1 Nested CV Average', np.mean(nested_cv_results['test_f1_weighted'] ))\n",
    "    print(name, 'Precision Nested CV Average', np.mean(nested_cv_results['test_precision_weighted'] ))\n",
    "    print(name, 'Recall Nested CV Average', np.mean(nested_cv_results['test_recall_weighted'] ))\n",
    "    model.fit(X_train_boruta, Y_train_boruta)\n",
    "    print(\"Best Parameters: \\n{}\\n\".format(model.best_params_))\n",
    "    print('Non-nested CV Results:')\n",
    "    y_pred_train = model.predict(X_train_boruta)\n",
    "    y_pred = model.predict(X_test_boruta)\n",
    "    print(name, 'Train accuracy:', accuracy_score(Y_train_boruta, y_pred_train), 'Test accuracy:', accuracy_score(Y_test_boruta, y_pred))\n",
    "    print(name, 'Train balanced accuracy:', balanced_accuracy_score(Y_train, y_pred_train), 'Test balanced accuracy:', balanced_accuracy_score(Y_test_boruta, y_pred))\n",
    "    print(name, 'Train F1', f1_score(Y_train_boruta, y_pred_train, average='weighted'), 'Test F1:', f1_score(Y_test_boruta, y_pred, average='weighted'))\n",
    "    print(name, 'Train recall:', recall_score(Y_train_boruta, y_pred_train, average='weighted'),'Test recall:', recall_score(Y_test_boruta, y_pred,average='weighted'))\n",
    "    print(name, 'Train precision:', precision_score(Y_train_boruta, y_pred_train,average='weighted'), 'Test precision:', precision_score(Y_test_boruta, y_pred,average='weighted'))\n",
    "    print('\\n')\n",
    "\n",
    "    \n",
    "print('All balanced accuracy results:', results)    "
   ]
  },
  {
   "cell_type": "code",
   "execution_count": 14,
   "metadata": {},
   "outputs": [],
   "source": [
    "X2_boruta_sel = MinMaxScaler().fit_transform(X_boruta_sel)\n",
    "X_train_boruta, X_test_boruta, Y_train_boruta, Y_test_boruta = train_test_split(X2_boruta_sel, Y, test_size=0.2, random_state=0)"
   ]
  },
  {
   "cell_type": "code",
   "execution_count": 15,
   "metadata": {},
   "outputs": [
    {
     "name": "stdout",
     "output_type": "stream",
     "text": [
      "KNN Nested CV results for all scores: \n",
      " {'fit_time': array([50.18574595, 51.53358197, 49.24860287, 47.97537804, 49.53082395]), 'score_time': array([0.00379801, 0.00373316, 0.00505018, 0.00517917, 0.00524998]), 'test_accuracy': array([0.56060606, 0.46969697, 0.61538462, 0.55384615, 0.50769231]), 'test_balanced_accuracy': array([0.57217262, 0.40281342, 0.52475071, 0.49876374, 0.47834565]), 'test_f1_weighted': array([0.51483539, 0.42741925, 0.58610409, 0.52698804, 0.47855214]), 'test_precision_weighted': array([0.50291944, 0.44113117, 0.63838303, 0.56445601, 0.52307692]), 'test_recall_weighted': array([0.56060606, 0.46969697, 0.61538462, 0.55384615, 0.50769231])} \n",
      "\n",
      "KNN Accuracy Nested CV Average 0.5414452214452214\n",
      "KNN Balanced Accuracy Nested CV Average 0.49536922651772486\n",
      "KNN F1 Nested CV Average 0.5067797825335347\n",
      "KNN Precision Nested CV Average 0.5339933131134902\n",
      "KNN Recall Nested CV Average 0.5414452214452214\n",
      "Best Parameters: \n",
      "OrderedDict([('metric', 'manhattan'), ('n_neighbors', 9), ('weights', 'distance')])\n",
      "\n",
      "Non-nested CV Results:\n",
      "KNN Train accuracy: 1.0 Test accuracy: 0.5151515151515151\n",
      "KNN Train balanced accuracy: 1.0 Test balanced accuracy: 0.5446428571428571\n",
      "KNN Train F1 1.0 Test F1: 0.46881027469262754\n",
      "KNN Train recall: 1.0 Test recall: 0.5151515151515151\n",
      "KNN Train precision: 1.0 Test precision: 0.447704315886134\n",
      "\n",
      "\n",
      "SVC Nested CV results for all scores: \n",
      " {'fit_time': array([42.30777788, 45.45792389, 41.79793692, 40.86432004, 41.27532291]), 'score_time': array([0.003793  , 0.00386214, 0.00487304, 0.00492597, 0.00420094]), 'test_accuracy': array([0.62121212, 0.56060606, 0.66153846, 0.53846154, 0.55384615]), 'test_balanced_accuracy': array([0.61979167, 0.49706745, 0.59561966, 0.49180403, 0.48039819]), 'test_f1_weighted': array([0.60704023, 0.52196083, 0.63686989, 0.50185822, 0.52186757]), 'test_precision_weighted': array([0.6299478 , 0.53419074, 0.6750201 , 0.55531136, 0.63059829]), 'test_recall_weighted': array([0.62121212, 0.56060606, 0.66153846, 0.53846154, 0.55384615])} \n",
      "\n",
      "SVC Accuracy Nested CV Average 0.587132867132867\n",
      "SVC Balanced Accuracy Nested CV Average 0.5369361993061937\n",
      "SVC F1 Nested CV Average 0.5579193478156608\n",
      "SVC Precision Nested CV Average 0.6050136591615314\n",
      "SVC Recall Nested CV Average 0.587132867132867\n",
      "Best Parameters: \n",
      "OrderedDict([('C', 422.07858224451616), ('gamma', 'auto'), ('kernel', 'rbf')])\n",
      "\n",
      "Non-nested CV Results:\n",
      "SVC Train accuracy: 0.6053639846743295 Test accuracy: 0.5\n",
      "SVC Train balanced accuracy: 0.5207875457875458 Test balanced accuracy: 0.39174107142857145\n",
      "SVC Train F1 0.5745846967207683 Test F1: 0.4691336441336441\n",
      "SVC Train recall: 0.6053639846743295 Test recall: 0.5\n",
      "SVC Train precision: 0.6501761243908708 Test precision: 0.5004192118816624\n",
      "\n",
      "\n",
      "LR Nested CV results for all scores: \n",
      " {'fit_time': array([43.41494393, 51.02485013, 44.09482288, 47.20182705, 44.98300314]), 'score_time': array([0.00273705, 0.00259781, 0.00280023, 0.00273395, 0.00268912]), 'test_accuracy': array([0.53030303, 0.54545455, 0.50769231, 0.49230769, 0.53846154]), 'test_balanced_accuracy': array([0.39732143, 0.41284824, 0.36538462, 0.4150641 , 0.48901888]), 'test_f1_weighted': array([0.46057657, 0.46621066, 0.3838914 , 0.40962211, 0.46455621]), 'test_precision_weighted': array([0.47326203, 0.56179982, 0.36479727, 0.36597331, 0.58180995]), 'test_recall_weighted': array([0.53030303, 0.54545455, 0.50769231, 0.49230769, 0.53846154])} \n",
      "\n",
      "LR Accuracy Nested CV Average 0.5228438228438228\n",
      "LR Balanced Accuracy Nested CV Average 0.415927454080958\n",
      "LR F1 Nested CV Average 0.43697139030682663\n",
      "LR Precision Nested CV Average 0.46952847745553417\n",
      "LR Recall Nested CV Average 0.5228438228438228\n",
      "Best Parameters: \n",
      "OrderedDict([('C', 5.0), ('max_iter', 2500), ('penalty', 'l2')])\n",
      "\n",
      "Non-nested CV Results:\n",
      "LR Train accuracy: 0.5402298850574713 Test accuracy: 0.5303030303030303\n",
      "LR Train balanced accuracy: 0.44726800976800973 Test balanced accuracy: 0.39732142857142855\n",
      "LR Train F1 0.4776938155847537 Test F1: 0.4605765720223552\n",
      "LR Train recall: 0.5402298850574713 Test recall: 0.5303030303030303\n",
      "LR Train precision: 0.5259050203216051 Test precision: 0.4732620320855615\n",
      "\n",
      "\n",
      "All balanced accuracy results: [array([0.31473214, 0.31754032, 0.32834758, 0.44775641, 0.43965517]), array([0.48363095, 0.34375   , 0.36538462, 0.42916667, 0.41995074]), array([0.39955357, 0.34888196, 0.34615385, 0.44839744, 0.40270936]), array([0.58184524, 0.51878666, 0.63247863, 0.46863553, 0.60360222]), array([0.50818452, 0.47434018, 0.50320513, 0.4400641 , 0.52919745]), array([0.54613095, 0.53390762, 0.62090456, 0.4860348 , 0.61673851]), array([0.39732143, 0.42045455, 0.46456553, 0.45654762, 0.45361248]), array([0.39322917, 0.37449597, 0.38461538, 0.42339744, 0.42323481]), array([0.57217262, 0.40281342, 0.52475071, 0.49876374, 0.47834565]), array([0.61979167, 0.49706745, 0.59561966, 0.50013736, 0.48039819]), array([0.39732143, 0.41284824, 0.36538462, 0.4150641 , 0.48901888])]\n"
     ]
    }
   ],
   "source": [
    "for name, model in othermodels:\n",
    "    nested_cv_results = model_selection.cross_validate(model, X2_boruta_sel , Y, cv=outer_cv, scoring=scoring, error_score=\"raise\")\n",
    "    nested_cv_results2 = model_selection.cross_val_score(model, X2_boruta_sel , Y, cv=outer_cv, scoring='balanced_accuracy', error_score=\"raise\")\n",
    "    results.append(nested_cv_results2)\n",
    "    names.append(name)\n",
    "    print(name, 'Nested CV results for all scores:', '\\n', nested_cv_results, '\\n')\n",
    "    print(name, 'Accuracy Nested CV Average', np.mean(nested_cv_results['test_accuracy']))\n",
    "    print(name, 'Balanced Accuracy Nested CV Average', np.mean(nested_cv_results['test_balanced_accuracy'] ))\n",
    "    print(name, 'F1 Nested CV Average', np.mean(nested_cv_results['test_f1_weighted'] ))\n",
    "    print(name, 'Precision Nested CV Average', np.mean(nested_cv_results['test_precision_weighted'] ))\n",
    "    print(name, 'Recall Nested CV Average', np.mean(nested_cv_results['test_recall_weighted'] ))\n",
    "    model.fit(X_train_boruta, Y_train_boruta)\n",
    "    print(\"Best Parameters: \\n{}\\n\".format(model.best_params_))\n",
    "    print('Non-nested CV Results:')\n",
    "    y_pred_train = model.predict(X_train_boruta)\n",
    "    y_pred = model.predict(X_test_boruta)\n",
    "    print(name, 'Train accuracy:', accuracy_score(Y_train_boruta, y_pred_train), 'Test accuracy:', accuracy_score(Y_test_boruta, y_pred))\n",
    "    print(name, 'Train balanced accuracy:', balanced_accuracy_score(Y_train, y_pred_train), 'Test balanced accuracy:', balanced_accuracy_score(Y_test_boruta, y_pred))\n",
    "    print(name, 'Train F1', f1_score(Y_train_boruta, y_pred_train, average='weighted'), 'Test F1:', f1_score(Y_test_boruta, y_pred, average='weighted'))\n",
    "    print(name, 'Train recall:', recall_score(Y_train_boruta, y_pred_train, average='weighted'),'Test recall:', recall_score(Y_test_boruta, y_pred,average='weighted'))\n",
    "    print(name, 'Train precision:', precision_score(Y_train_boruta, y_pred_train,average='weighted'), 'Test precision:', precision_score(Y_test_boruta, y_pred,average='weighted'))\n",
    "    print('\\n')\n",
    "\n",
    "    \n",
    "print('All balanced accuracy results:', results)    "
   ]
  },
  {
   "cell_type": "code",
   "execution_count": 9,
   "metadata": {},
   "outputs": [],
   "source": [
    "xgb = xgboost.XGBClassifier(random_state=seed, num_class=4, objective='multi:softmax', eval_metric='mlogloss', learning_rate=0.03772101259984952,\n",
    "                           max_depth=3, n_estimators=42, reg_alpha=1, reg_lambda=1) \n",
    "\n",
    "\n",
    "gb = GradientBoostingClassifier(random_state=seed, criterion='mse', learning_rate=0.19910731251957545, max_depth=3, max_features='sqrt',\n",
    "                               n_estimators=23)\n",
    "\n",
    "\n",
    "rf = RandomForestClassifier(random_state=seed, criterion='entropy', max_depth=4, max_features='sqrt', n_estimators=38)\n",
    "\n",
    "\n",
    "dt = DecisionTreeClassifier(random_state=seed, criterion='entropy', max_depth=3, max_features='log2')\n",
    "\n",
    "\n",
    "extra = ExtraTreesClassifier(random_state=seed, criterion='gini', max_depth=4, max_features='sqrt', n_estimators=24)\n",
    "\n",
    "knn = KNeighborsClassifier(metric='manhattan', n_neighbors=9, weights='distance')\n",
    "\n",
    "\n",
    "svm = SVC(C=422.07858224451616, gamma='auto', kernel='rbf')\n",
    "\n",
    "lr = LogisticRegression(solver='liblinear',multi_class='auto',random_state=seed, C=5.0, max_iter=2500, penalty='l2')\n"
   ]
  },
  {
   "cell_type": "code",
   "execution_count": 10,
   "metadata": {},
   "outputs": [
    {
     "name": "stdout",
     "output_type": "stream",
     "text": [
      "              precision    recall  f1-score   support\n",
      "\n",
      " most likely       0.17      0.17      0.17         6\n",
      "    probable       0.65      0.88      0.75        32\n",
      "    possible       0.67      0.29      0.40        21\n",
      "least likely       0.88      1.00      0.93         7\n",
      "\n",
      "    accuracy                           0.64        66\n",
      "   macro avg       0.59      0.58      0.56        66\n",
      "weighted avg       0.64      0.64      0.60        66\n",
      "\n"
     ]
    }
   ],
   "source": [
    "target_names = ['most likely', 'probable', 'possible', 'least likely']\n",
    "xgb.fit(X_train_boruta, Y_train_boruta)\n",
    "predictions = list(xgb.predict(X_test_boruta))\n",
    "print(classification_report(Y_test_boruta, predictions, target_names=target_names))"
   ]
  },
  {
   "cell_type": "code",
   "execution_count": 11,
   "metadata": {},
   "outputs": [
    {
     "name": "stdout",
     "output_type": "stream",
     "text": [
      "              precision    recall  f1-score   support\n",
      "\n",
      " most likely       0.29      0.33      0.31         6\n",
      "    probable       0.62      0.72      0.67        32\n",
      "    possible       0.44      0.33      0.38        21\n",
      "least likely       1.00      0.86      0.92         7\n",
      "\n",
      "    accuracy                           0.58        66\n",
      "   macro avg       0.59      0.56      0.57        66\n",
      "weighted avg       0.57      0.58      0.57        66\n",
      "\n"
     ]
    }
   ],
   "source": [
    "gb.fit(X_train_boruta, Y_train_boruta)\n",
    "predictions = list(gb.predict(X_test_boruta))\n",
    "print(classification_report(Y_test_boruta, predictions, target_names=target_names))"
   ]
  },
  {
   "cell_type": "code",
   "execution_count": 12,
   "metadata": {},
   "outputs": [
    {
     "name": "stdout",
     "output_type": "stream",
     "text": [
      "              precision    recall  f1-score   support\n",
      "\n",
      " most likely       0.33      0.17      0.22         6\n",
      "    probable       0.63      1.00      0.77        32\n",
      "    possible       0.75      0.14      0.24        21\n",
      "least likely       0.88      1.00      0.93         7\n",
      "\n",
      "    accuracy                           0.65        66\n",
      "   macro avg       0.65      0.58      0.54        66\n",
      "weighted avg       0.67      0.65      0.57        66\n",
      "\n"
     ]
    }
   ],
   "source": [
    "rf.fit(X_train_boruta, Y_train_boruta)\n",
    "predictions = list(rf.predict(X_test_boruta))\n",
    "print(classification_report(Y_test_boruta, predictions, target_names=target_names))"
   ]
  },
  {
   "cell_type": "code",
   "execution_count": 13,
   "metadata": {},
   "outputs": [
    {
     "name": "stdout",
     "output_type": "stream",
     "text": [
      "              precision    recall  f1-score   support\n",
      "\n",
      " most likely       0.00      0.00      0.00         6\n",
      "    probable       0.54      0.81      0.65        32\n",
      "    possible       0.31      0.24      0.27        21\n",
      "least likely       1.00      0.29      0.44         7\n",
      "\n",
      "    accuracy                           0.50        66\n",
      "   macro avg       0.46      0.33      0.34        66\n",
      "weighted avg       0.47      0.50      0.45        66\n",
      "\n"
     ]
    }
   ],
   "source": [
    "dt.fit(X_train_boruta, Y_train_boruta)\n",
    "predictions = list(dt.predict(X_test_boruta))\n",
    "print(classification_report(Y_test_boruta, predictions, target_names=target_names))"
   ]
  },
  {
   "cell_type": "code",
   "execution_count": 14,
   "metadata": {},
   "outputs": [
    {
     "name": "stdout",
     "output_type": "stream",
     "text": [
      "              precision    recall  f1-score   support\n",
      "\n",
      " most likely       0.00      0.00      0.00         6\n",
      "    probable       0.54      0.91      0.67        32\n",
      "    possible       0.43      0.14      0.21        21\n",
      "least likely       1.00      0.57      0.73         7\n",
      "\n",
      "    accuracy                           0.55        66\n",
      "   macro avg       0.49      0.41      0.40        66\n",
      "weighted avg       0.50      0.55      0.47        66\n",
      "\n"
     ]
    }
   ],
   "source": [
    "extra.fit(X_train_boruta, Y_train_boruta)\n",
    "predictions = list(extra.predict(X_test_boruta))\n",
    "print(classification_report(Y_test_boruta, predictions, target_names=target_names))"
   ]
  },
  {
   "cell_type": "code",
   "execution_count": 15,
   "metadata": {},
   "outputs": [
    {
     "name": "stdout",
     "output_type": "stream",
     "text": [
      "              precision    recall  f1-score   support\n",
      "\n",
      " most likely       0.20      0.17      0.18         6\n",
      "    probable       0.59      0.69      0.64        32\n",
      "    possible       0.56      0.48      0.51        21\n",
      "least likely       0.67      0.57      0.62         7\n",
      "\n",
      "    accuracy                           0.56        66\n",
      "   macro avg       0.50      0.48      0.49        66\n",
      "weighted avg       0.55      0.56      0.55        66\n",
      "\n"
     ]
    }
   ],
   "source": [
    "knn.fit(X_train_boruta, Y_train_boruta)\n",
    "predictions = list(knn.predict(X_test_boruta))\n",
    "print(classification_report(Y_test_boruta, predictions, target_names=target_names))"
   ]
  },
  {
   "cell_type": "code",
   "execution_count": 16,
   "metadata": {},
   "outputs": [
    {
     "name": "stdout",
     "output_type": "stream",
     "text": [
      "              precision    recall  f1-score   support\n",
      "\n",
      " most likely       0.00      0.00      0.00         6\n",
      "    probable       0.53      0.66      0.58        32\n",
      "    possible       0.17      0.10      0.12        21\n",
      "least likely       1.00      0.57      0.73         7\n",
      "\n",
      "    accuracy                           0.41        66\n",
      "   macro avg       0.42      0.33      0.36        66\n",
      "weighted avg       0.41      0.41      0.40        66\n",
      "\n"
     ]
    }
   ],
   "source": [
    "svm.fit(X_train_boruta, Y_train_boruta)\n",
    "predictions = list(svm.predict(X_test_boruta))\n",
    "print(classification_report(Y_test_boruta, predictions, target_names=target_names))"
   ]
  },
  {
   "cell_type": "code",
   "execution_count": 17,
   "metadata": {},
   "outputs": [
    {
     "name": "stdout",
     "output_type": "stream",
     "text": [
      "              precision    recall  f1-score   support\n",
      "\n",
      " most likely       0.00      0.00      0.00         6\n",
      "    probable       0.55      0.88      0.67        32\n",
      "    possible       0.43      0.14      0.21        21\n",
      "least likely       0.67      0.57      0.62         7\n",
      "\n",
      "    accuracy                           0.53        66\n",
      "   macro avg       0.41      0.40      0.38        66\n",
      "weighted avg       0.47      0.53      0.46        66\n",
      "\n"
     ]
    }
   ],
   "source": [
    "lr.fit(X_train_boruta, Y_train_boruta)\n",
    "predictions = list(lr.predict(X_test_boruta))\n",
    "print(classification_report(Y_test_boruta, predictions, target_names=target_names))"
   ]
  },
  {
   "cell_type": "code",
   "execution_count": null,
   "metadata": {},
   "outputs": [],
   "source": []
  }
 ],
 "metadata": {
  "kernelspec": {
   "display_name": "Python 3 (ipykernel)",
   "language": "python",
   "name": "python3"
  },
  "language_info": {
   "codemirror_mode": {
    "name": "ipython",
    "version": 3
   },
   "file_extension": ".py",
   "mimetype": "text/x-python",
   "name": "python",
   "nbconvert_exporter": "python",
   "pygments_lexer": "ipython3",
   "version": "3.8.12"
  }
 },
 "nbformat": 4,
 "nbformat_minor": 4
}
