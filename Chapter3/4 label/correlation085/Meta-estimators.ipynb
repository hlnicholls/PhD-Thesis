{
 "cells": [
  {
   "cell_type": "code",
   "execution_count": 1,
   "id": "0eaa5868-b315-42af-98bf-0df9aaecfc36",
   "metadata": {},
   "outputs": [],
   "source": [
    "import re\n",
    "\n",
    "import numpy as np\n",
    "import pandas as pd\n",
    "from numpy import sort\n",
    "from scipy.cluster import hierarchy\n",
    "from scipy.stats import spearmanr\n",
    "\n",
    "regex = re.compile(r\"\\[|\\]|<\", re.IGNORECASE)\n",
    "\n",
    "import seaborn as sns\n",
    "import shap\n",
    "import statsmodels.api as sm\n",
    "\n",
    "%matplotlib inline\n",
    "%config InlineBackend.figure_format ='retina'\n",
    "import statsmodels.stats.api as sms\n",
    "import xgboost\n",
    "from BorutaShap import BorutaShap\n",
    "from sklearn import datasets, metrics, model_selection, preprocessing\n",
    "from sklearn.ensemble import (\n",
    "    BaggingClassifier,\n",
    "    ExtraTreesClassifier,\n",
    "    GradientBoostingClassifier,\n",
    "    RandomForestClassifier,\n",
    "    StackingClassifier,\n",
    "    VotingClassifier,\n",
    ")\n",
    "from sklearn.svm import SVC\n",
    "from sklearn.linear_model import LogisticRegression\n",
    "from sklearn.metrics import *\n",
    "import lightgbm\n",
    "from catboost import CatBoostClassifier\n",
    "from lightgbm import LGBMClassifier\n",
    "from sklearn.linear_model import ElasticNet, Lasso, LinearRegression\n",
    "\n",
    "from sklearn.model_selection import (\n",
    "    GridSearchCV,\n",
    "    KFold,\n",
    "    RandomizedSearchCV,\n",
    "    StratifiedKFold,\n",
    "    RepeatedKFold,\n",
    "    cross_val_predict,\n",
    "    cross_val_score,\n",
    "    cross_validate,\n",
    "    learning_curve,\n",
    "    train_test_split,\n",
    "    validation_curve,\n",
    ")\n",
    "from sklearn.neighbors import KNeighborsClassifier\n",
    "from sklearn.preprocessing import MinMaxScaler\n",
    "from sklearn.tree import DecisionTreeClassifier\n",
    "from skopt import BayesSearchCV\n",
    "from skopt.plots import plot_convergence\n",
    "\n",
    "sns.set_style(\"darkgrid\")\n",
    "sns.mpl.rcParams[\"figure.figsize\"] = (15.0, 9.0)\n",
    "\n",
    "import warnings\n",
    "\n",
    "import matplotlib\n",
    "import matplotlib.pyplot as plt\n",
    "\n",
    "warnings.simplefilter(action=\"ignore\", category=FutureWarning)\n",
    "from warnings import filterwarnings\n",
    "\n",
    "filterwarnings(\"ignore\")\n",
    "\n",
    "seed = 0"
   ]
  },
  {
   "cell_type": "code",
   "execution_count": 2,
   "id": "ca37a895-7fd1-4e48-86bb-23a209af0cef",
   "metadata": {},
   "outputs": [],
   "source": [
    "data = pd.read_csv(\"training_cleaned.csv\", header=0, sep=\",\")\n",
    "\n",
    "data[\"BPlabel_encoded\"] = data[\"BPlabel\"].map(\n",
    "    {\"most likely\": 1, \"probable\": 2, \"possible\": 3, 'least likely':4}\n",
    ")\n",
    "Y = data[\"BPlabel_encoded\"]\n",
    "data = data.drop([\"BPlabel\"], 1)"
   ]
  },
  {
   "cell_type": "code",
   "execution_count": 3,
   "id": "8eae62e6-142a-428e-b1c5-f223cd068fea",
   "metadata": {},
   "outputs": [],
   "source": [
    "X = pd.read_csv(\"selected_features_training_data.csv\", header=0)\n",
    "X.columns = [\n",
    "    regex.sub(\"_\", col) if any(x in str(col) for x in set((\"[\", \"]\", \"<\"))) else col\n",
    "    for col in X.columns.values\n",
    "]"
   ]
  },
  {
   "cell_type": "code",
   "execution_count": 4,
   "id": "8c69a8ec-05ac-4ac7-a60c-0ebaa0c4188d",
   "metadata": {},
   "outputs": [],
   "source": [
    "X_train, X_test, Y_train, Y_test = train_test_split(\n",
    "    X, Y, test_size=0.2, random_state=seed\n",
    ")"
   ]
  },
  {
   "cell_type": "code",
   "execution_count": 18,
   "id": "e8e791c0-e854-477d-9e9c-edff7bce7c95",
   "metadata": {},
   "outputs": [],
   "source": [
    "xgb =  xgboost.XGBClassifier(learning_rate=0.15120340125789705, n_estimators=50, max_depth=4, random_state=0, reg_alpha=3, reg_lambda=10,\n",
    "                            eval_metric='mlogloss')\n",
    "\n",
    "lgbm =  LGBMClassifier(learning_rate=0.2, max_depth=1, n_estimators=50, random_state=0,\n",
    "               reg_alpha=1, reg_lambda=1)\n",
    "\n",
    "cb = CatBoostClassifier(depth=4, iterations=50, learning_rate=0.1964188294579477, random_seed=seed, verbose=False)\n",
    "\n",
    "gb = GradientBoostingClassifier(learning_rate=0.19101624063861414, max_depth=1,\n",
    "                           max_features='auto', n_estimators=47,\n",
    "                           random_state=0)\n",
    "                       \n",
    "rf = RandomForestClassifier(criterion='entropy', max_depth=4, max_features='log2',\n",
    "                       n_estimators=24, random_state=0)\n",
    "\n",
    "dt = DecisionTreeClassifier(max_depth=3, max_features='sqrt', random_state=0)\n",
    "\n",
    "et = ExtraTreesClassifier(criterion='entropy', max_depth=4, max_features='log2',\n",
    "                     n_estimators=10, random_state=0)\n",
    "\n",
    "knn = KNeighborsClassifier(metric='manhattan', n_neighbors=7)\n",
    "\n",
    "svc = SVC(C=999.9984985741586)\n",
    "\n",
    "lr = LogisticRegression(max_iter=1000, penalty='l1', random_state=0,\n",
    "                   solver='liblinear')\n",
    "\n",
    "results = []\n",
    "names = []\n",
    "scoring = ['accuracy', 'balanced_accuracy', 'f1_weighted', \n",
    "          'precision_weighted','recall_weighted']\n",
    "\n",
    "inner_cv = StratifiedKFold(n_splits=10, shuffle=True, random_state=seed)\n",
    "outer_cv = StratifiedKFold(n_splits=10, shuffle=True,  random_state=seed)"
   ]
  },
  {
   "cell_type": "code",
   "execution_count": 19,
   "id": "7c6b1142-fa41-46ef-a672-2a145f61d4c8",
   "metadata": {},
   "outputs": [
    {
     "name": "stdout",
     "output_type": "stream",
     "text": [
      "Stacking CV results for all scores: {'fit_time': array([1.88520694, 1.76581812, 1.76031995, 1.71832895, 1.75551915,\n",
      "       1.76247597, 1.79440689, 1.77660227, 1.74836898, 1.74558115]), 'score_time': array([0.02221894, 0.02179098, 0.02321601, 0.02212787, 0.02232099,\n",
      "       0.02153993, 0.02228284, 0.02208471, 0.02176499, 0.02138591]), 'test_accuracy': array([0.47368421, 0.60526316, 0.57894737, 0.55263158, 0.76315789,\n",
      "       0.57894737, 0.44736842, 0.51351351, 0.54054054, 0.64864865]), 'test_balanced_accuracy': array([0.44444444, 0.56111111, 0.48888889, 0.47222222, 0.68333333,\n",
      "       0.52361111, 0.37916667, 0.42142857, 0.50694444, 0.58888889]), 'test_f1_weighted': array([0.43101504, 0.55927533, 0.53192228, 0.5018797 , 0.7296201 ,\n",
      "       0.57703295, 0.40633843, 0.48616729, 0.52934363, 0.58357041]), 'test_precision_weighted': array([0.43157895, 0.59811213, 0.60328947, 0.47009569, 0.83901602,\n",
      "       0.65225564, 0.37570489, 0.51880141, 0.52416052, 0.55887192]), 'test_recall_weighted': array([0.47368421, 0.60526316, 0.57894737, 0.55263158, 0.76315789,\n",
      "       0.57894737, 0.44736842, 0.51351351, 0.54054054, 0.64864865])}\n",
      "Accuracy CV Average 0.5657894736842106\n",
      "Balanced Accuracy CV Average 0.4979166666666667\n",
      "F1 CV Average 0.5306329562134516\n",
      "Precision CV Average 0.5415162197770893\n",
      "Recall CV Average 0.5657894736842106\n"
     ]
    }
   ],
   "source": [
    "estimators = [\n",
    "    (\"XGBR\", xgb),\n",
    "    (\"GBR\", gb),\n",
    "    (\"RFR\", rf),\n",
    "    (\"LGBM\", lgbm),\n",
    "    (\"CB\", cb),\n",
    "    (\"ET\", et),\n",
    "    (\"DT\", dt),\n",
    "    (\"KNN\", knn),\n",
    "    (\"SVM\", svc),\n",
    "    (\"LR\", lr),\n",
    "\n",
    "]\n",
    "\n",
    "stacker = StackingClassifier(\n",
    "    estimators=estimators,\n",
    "    final_estimator= xgboost.XGBClassifier(learning_rate=0.15120340125789705, n_estimators=50, max_depth=4, random_state=0, reg_alpha=3, reg_lambda=10,\n",
    "                            eval_metric='mlogloss')\n",
    ")\n",
    "cv_results = model_selection.cross_validate(\n",
    "        stacker, X, Y, cv=outer_cv, scoring=scoring\n",
    ")\n",
    "print(\"Stacking CV results for all scores:\", cv_results)\n",
    "print('Accuracy CV Average', np.median(cv_results['test_accuracy']))\n",
    "print('Balanced Accuracy CV Average', np.median(cv_results['test_balanced_accuracy'] ))\n",
    "print('F1 CV Average', np.median(cv_results['test_f1_weighted'] ))\n",
    "print('Precision CV Average', np.median(cv_results['test_precision_weighted'] ))\n",
    "print('Recall CV Average', np.median(cv_results['test_recall_weighted'] ))\n"
   ]
  },
  {
   "cell_type": "code",
   "execution_count": 20,
   "id": "bbb5ab3e-d099-4ee3-a9bb-38ca590b36f1",
   "metadata": {},
   "outputs": [
    {
     "name": "stdout",
     "output_type": "stream",
     "text": [
      "Bagging Classifier CV results for all scores: \n",
      " {'fit_time': array([3.97414875, 2.59140897, 2.57272887, 2.61888814, 2.59214211,\n",
      "       2.60070086, 2.59987307, 2.58918405, 2.63562202, 2.5896709 ]), 'score_time': array([0.17132521, 0.17053294, 0.16788125, 0.16725397, 0.16960907,\n",
      "       0.17054725, 0.16903996, 0.17251992, 0.17005181, 0.16960478]), 'test_accuracy': array([0.55263158, 0.63157895, 0.60526316, 0.47368421, 0.60526316,\n",
      "       0.57894737, 0.42105263, 0.59459459, 0.56756757, 0.62162162]), 'test_balanced_accuracy': array([0.48333333, 0.58888889, 0.51666667, 0.38888889, 0.55      ,\n",
      "       0.50902778, 0.34791667, 0.47678571, 0.49444444, 0.57222222]), 'test_f1_weighted': array([0.46790271, 0.59245152, 0.56835953, 0.41559799, 0.54601416,\n",
      "       0.54641437, 0.3876504 , 0.54516055, 0.5097651 , 0.56235183]), 'test_precision_weighted': array([0.41459418, 0.61784897, 0.6625    , 0.38935407, 0.50451128,\n",
      "       0.58004386, 0.36095648, 0.56      , 0.48149058, 0.52908343]), 'test_recall_weighted': array([0.55263158, 0.63157895, 0.60526316, 0.47368421, 0.60526316,\n",
      "       0.57894737, 0.42105263, 0.59459459, 0.56756757, 0.62162162])} \n",
      "\n",
      "Bagging Accuracy CV Average 0.5867709815078237\n",
      "Bagging Balanced Accuracy CV Average 0.5017361111111112\n",
      "Bagging F1 CV Average 0.5455873516815345\n",
      "Bagging Precision CV Average 0.5167973547264164\n",
      "Bagging Recall CV Average 0.5867709815078237\n"
     ]
    }
   ],
   "source": [
    "bagging_xgbr = BaggingClassifier(base_estimator=xgb, n_estimators=10, oob_score=True, random_state=seed, n_jobs=-1)\n",
    "\n",
    "cv_results = model_selection.cross_validate(bagging_xgbr, X , Y, cv=outer_cv, scoring=scoring)\n",
    "print('Bagging Classifier CV results for all scores:', '\\n', cv_results, '\\n')\n",
    "print('Bagging Accuracy CV Average', np.median(cv_results['test_accuracy']))\n",
    "print('Bagging Balanced Accuracy CV Average', np.median(cv_results['test_balanced_accuracy'] ))\n",
    "print('Bagging F1 CV Average', np.median(cv_results['test_f1_weighted'] ))\n",
    "print('Bagging Precision CV Average', np.median(cv_results['test_precision_weighted'] ))\n",
    "print('Bagging Recall CV Average', np.median(cv_results['test_recall_weighted'] ))\n"
   ]
  },
  {
   "cell_type": "code",
   "execution_count": 21,
   "id": "340c998e-0135-4bbd-b33c-e084e96f3d5a",
   "metadata": {},
   "outputs": [
    {
     "name": "stdout",
     "output_type": "stream",
     "text": [
      "Voting CV results for all scores {'fit_time': array([0.32234502, 0.32751107, 0.32775593, 0.31215286, 0.35000181,\n",
      "       0.34168601, 0.35109115, 0.34852195, 0.32956123, 0.30857491]), 'score_time': array([0.02325201, 0.02260399, 0.022264  , 0.02459121, 0.02359724,\n",
      "       0.02434802, 0.02451491, 0.02357602, 0.02246666, 0.0222621 ]), 'test_accuracy': array([0.55263158, 0.60526316, 0.60526316, 0.52631579, 0.68421053,\n",
      "       0.63157895, 0.5       , 0.56756757, 0.59459459, 0.62162162]), 'test_balanced_accuracy': array([0.49444444, 0.56111111, 0.50555556, 0.43333333, 0.61111111,\n",
      "       0.54236111, 0.40416667, 0.46428571, 0.51111111, 0.53888889]), 'test_f1_weighted': array([0.49416102, 0.52977839, 0.54795615, 0.4546332 , 0.64276969,\n",
      "       0.58858711, 0.4621422 , 0.49966809, 0.51667457, 0.54654655]), 'test_precision_weighted': array([0.62974871, 0.50263158, 0.63031377, 0.43421053, 0.74330144,\n",
      "       0.65635965, 0.4610984 , 0.55001155, 0.46698002, 0.50337838]), 'test_recall_weighted': array([0.55263158, 0.60526316, 0.60526316, 0.52631579, 0.68421053,\n",
      "       0.63157895, 0.5       , 0.56756757, 0.59459459, 0.62162162])}\n",
      "Accuracy CV Average 0.5999288762446657\n",
      "Balanced Accuracy CV Average 0.5083333333333333\n",
      "F1 CV Average 0.5232264813289743\n",
      "Precision CV Average 0.5266949641949643\n",
      "Recall CV Average 0.5999288762446657\n"
     ]
    }
   ],
   "source": [
    "model1 = xgb.fit(X_train, Y_train)\n",
    "model2 = gb.fit(X_train, Y_train)\n",
    "model3 = lgbm.fit(X_train, Y_train)\n",
    "model4 = cb.fit(X_train, Y_train)\n",
    "model5 = rf.fit(X_train, Y_train)\n",
    "model6 = et.fit(X_train, Y_train)\n",
    "model7 = dt.fit(X_train, Y_train)\n",
    "model8 = knn.fit(X_train, Y_train)\n",
    "model9 = svc.fit(X_train, Y_train)\n",
    "model10 = lr.fit(X_train, Y_train)\n",
    "\n",
    "vote = VotingClassifier([(\"xgbr\", model1), (\"gbr\", model2), (\"lgbm\", model3),\n",
    "                      (\"rf\", model5), (\"et\", model6),\n",
    "                       (\"dt\", model7), (\"knn\", model8), (\"svm\", model9),\n",
    "                       (\"lr\", model10)])\n",
    "\n",
    "cv_results = model_selection.cross_validate(\n",
    "        vote, X, Y, cv=outer_cv, scoring=scoring\n",
    ")\n",
    "print(\"Voting CV results for all scores\", cv_results)\n",
    "\n",
    "print('Accuracy CV Average', np.median(cv_results['test_accuracy']))\n",
    "print('Balanced Accuracy CV Average', np.median(cv_results['test_balanced_accuracy'] ))\n",
    "print('F1 CV Average', np.median(cv_results['test_f1_weighted'] ))\n",
    "print('Precision CV Average', np.median(cv_results['test_precision_weighted'] ))\n",
    "print('Recall CV Average', np.median(cv_results['test_recall_weighted'] ))\n"
   ]
  },
  {
   "cell_type": "code",
   "execution_count": 22,
   "id": "0b51f151-14ee-4f74-852c-69daf033d549",
   "metadata": {},
   "outputs": [
    {
     "name": "stdout",
     "output_type": "stream",
     "text": [
      "              precision    recall  f1-score   support\n",
      "\n",
      " most likely       0.33      0.10      0.15        10\n",
      "    probable       0.46      0.70      0.56        27\n",
      "    possible       0.25      0.12      0.17        16\n",
      "least likely       0.83      0.87      0.85        23\n",
      "\n",
      "    accuracy                           0.55        76\n",
      "   macro avg       0.47      0.45      0.43        76\n",
      "weighted avg       0.51      0.55      0.51        76\n",
      "\n"
     ]
    }
   ],
   "source": [
    "target_names = ['most likely', 'probable', 'possible','least likely']\n",
    "stacker.fit(X_train, Y_train)\n",
    "predictions = list(stacker.predict(X_test))\n",
    "print(classification_report(Y_test, predictions, target_names=target_names))"
   ]
  },
  {
   "cell_type": "code",
   "execution_count": 23,
   "id": "623f89c5-2a87-49d6-a140-4b032cb3f08c",
   "metadata": {},
   "outputs": [
    {
     "name": "stdout",
     "output_type": "stream",
     "text": [
      "              precision    recall  f1-score   support\n",
      "\n",
      " most likely       0.17      0.10      0.12        10\n",
      "    probable       0.47      0.81      0.59        27\n",
      "    possible       0.50      0.06      0.11        16\n",
      "least likely       0.81      0.74      0.77        23\n",
      "\n",
      "    accuracy                           0.54        76\n",
      "   macro avg       0.49      0.43      0.40        76\n",
      "weighted avg       0.54      0.54      0.48        76\n",
      "\n"
     ]
    }
   ],
   "source": [
    "vote.fit(X_train, Y_train)\n",
    "predictions = list(vote.predict(X_test))\n",
    "print(classification_report(Y_test, predictions, target_names=target_names))"
   ]
  },
  {
   "cell_type": "code",
   "execution_count": 24,
   "id": "652c7636-e378-4abd-b084-bd39123d50e6",
   "metadata": {},
   "outputs": [
    {
     "name": "stdout",
     "output_type": "stream",
     "text": [
      "              precision    recall  f1-score   support\n",
      "\n",
      " most likely       0.33      0.10      0.15        10\n",
      "    probable       0.52      0.81      0.64        27\n",
      "    possible       0.43      0.19      0.26        16\n",
      "least likely       0.88      0.91      0.89        23\n",
      "\n",
      "    accuracy                           0.62        76\n",
      "   macro avg       0.54      0.50      0.49        76\n",
      "weighted avg       0.58      0.62      0.57        76\n",
      "\n"
     ]
    }
   ],
   "source": [
    "bagging_xgbr.fit(X_train, Y_train)\n",
    "predictions = list(bagging_xgbr.predict(X_test))\n",
    "print(classification_report(Y_test, predictions, target_names=target_names))"
   ]
  },
  {
   "cell_type": "code",
   "execution_count": null,
   "id": "fde857dc-d111-4ab3-81dc-3f9e66cf45d8",
   "metadata": {},
   "outputs": [],
   "source": []
  }
 ],
 "metadata": {
  "kernelspec": {
   "display_name": "Python 3",
   "language": "python",
   "name": "python3"
  },
  "language_info": {
   "codemirror_mode": {
    "name": "ipython",
    "version": 3
   },
   "file_extension": ".py",
   "mimetype": "text/x-python",
   "name": "python",
   "nbconvert_exporter": "python",
   "pygments_lexer": "ipython3",
   "version": "3.8.12"
  },
  "widgets": {
   "application/vnd.jupyter.widget-state+json": {
    "state": {},
    "version_major": 2,
    "version_minor": 0
   }
  }
 },
 "nbformat": 4,
 "nbformat_minor": 5
}
